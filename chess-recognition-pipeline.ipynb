{
 "cells": [
  {
   "cell_type": "code",
   "execution_count": 1,
   "metadata": {},
   "outputs": [],
   "source": [
    "import cv2\n",
    "import numpy as np\n",
    "import os\n",
    "import math\n",
    "from src.our_chessboard_detection import *\n",
    "from matplotlib import pyplot as plt\n",
    "\n",
    "dataDir = 'images' # Change this, according to your images' directory path"
   ]
  },
  {
   "cell_type": "code",
   "execution_count": 2,
   "metadata": {},
   "outputs": [],
   "source": [
    "# Open image\n",
    "image = cv2.imread(os.path.join(dataDir, \"42\", 'G042_IMG000.jpg')) # Change this, according to your image's path\n",
    "\n",
    "# Convert to grayscale\n",
    "gray = cv2.cvtColor(image, cv2.COLOR_BGR2GRAY)\n",
    "\n",
    "#cv2.imshow(\"Image\", image)\n",
    "#cv2.waitKey(0)\n",
    "#cv2.destroyAllWindows()"
   ]
  },
  {
   "cell_type": "markdown",
   "metadata": {},
   "source": [
    "### Cropping ang getting first chessborad\n",
    "\n",
    "Here i am trying to get the first chess board immage to "
   ]
  },
  {
   "cell_type": "code",
   "execution_count": 8,
   "metadata": {},
   "outputs": [
    {
     "name": "stdout",
     "output_type": "stream",
     "text": [
      "Image Width: 3072, Image Height: 3072, Channels: 3\n",
      "Number of squares detected: 3\n",
      "Squares: [array([[[1234,  861]],\n",
      "\n",
      "       [[2629, 1376]],\n",
      "\n",
      "       [[2042, 2933]],\n",
      "\n",
      "       [[ 473, 2161]]], dtype=int32), array([[[1273,  968]],\n",
      "\n",
      "       [[ 616, 2112]],\n",
      "\n",
      "       [[1976, 2761]],\n",
      "\n",
      "       [[2499, 1417]]], dtype=int32), array([[[1836, 2052]],\n",
      "\n",
      "       [[1518, 2306]],\n",
      "\n",
      "       [[1786, 2643]],\n",
      "\n",
      "       [[2102, 2371]]], dtype=int32)]\n"
     ]
    },
    {
     "ename": "IndexError",
     "evalue": "index 1 is out of bounds for axis 0 with size 1",
     "output_type": "error",
     "traceback": [
      "\u001b[31m---------------------------------------------------------------------------\u001b[39m",
      "\u001b[31mIndexError\u001b[39m                                Traceback (most recent call last)",
      "\u001b[36mCell\u001b[39m\u001b[36m \u001b[39m\u001b[32mIn[8]\u001b[39m\u001b[32m, line 11\u001b[39m\n\u001b[32m      8\u001b[39m image2 = background_subtraction(image2, square)\n\u001b[32m     10\u001b[39m \u001b[38;5;66;03m# this saves the image as cropped_rotated_image.jpg\u001b[39;00m\n\u001b[32m---> \u001b[39m\u001b[32m11\u001b[39m cropped_rotated_image, rotated_square = \u001b[43mcrop_chessboard\u001b[49m\u001b[43m(\u001b[49m\u001b[43mimage2\u001b[49m\u001b[43m,\u001b[49m\u001b[43m \u001b[49m\u001b[43msquare\u001b[49m\u001b[43m,\u001b[49m\u001b[43m \u001b[49m\u001b[43msave\u001b[49m\u001b[43m=\u001b[49m\u001b[38;5;28;43;01mTrue\u001b[39;49;00m\u001b[43m)\u001b[49m\n",
      "\u001b[36mFile \u001b[39m\u001b[32md:\\MIA\\2Semester\\CV\\-Detect_the_chess_board_and_chess_pieces\\src\\our_chessboard_detection.py:72\u001b[39m, in \u001b[36mcrop_chessboard\u001b[39m\u001b[34m(image, square, show, save)\u001b[39m\n\u001b[32m     68\u001b[39m \u001b[38;5;28;01mdef\u001b[39;00m\u001b[38;5;250m \u001b[39m\u001b[34mcrop_chessboard\u001b[39m(image, square, show = \u001b[38;5;28;01mFalse\u001b[39;00m, save= \u001b[38;5;28;01mFalse\u001b[39;00m):\n\u001b[32m     71\u001b[39m     p1 = square[\u001b[32m0\u001b[39m][\u001b[32m0\u001b[39m]\n\u001b[32m---> \u001b[39m\u001b[32m72\u001b[39m     p2 = \u001b[43msquare\u001b[49m\u001b[43m[\u001b[49m\u001b[32;43m1\u001b[39;49m\u001b[43m]\u001b[49m[\u001b[32m0\u001b[39m]\n\u001b[32m     73\u001b[39m     angle = np.arctan2(p2[\u001b[32m1\u001b[39m] - p1[\u001b[32m1\u001b[39m], p2[\u001b[32m0\u001b[39m] - p1[\u001b[32m0\u001b[39m]) * \u001b[32m180\u001b[39m / np.pi\n\u001b[32m     75\u001b[39m     \u001b[38;5;66;03m# Calculate the image center\u001b[39;00m\n",
      "\u001b[31mIndexError\u001b[39m: index 1 is out of bounds for axis 0 with size 1"
     ]
    }
   ],
   "source": [
    "# Getting contours\n",
    "\n",
    "image2 = image.copy()\n",
    "square = getting_contours(image2, show=False)[0]\n",
    "\n",
    "# Assuming we want to crop the first detected square\n",
    "\n",
    "image2 = background_subtraction(image2, square)\n",
    "\n",
    "# this saves the image as cropped_rotated_image.jpg\n",
    "cropped_rotated_image, rotated_square = crop_chessboard(image2, square, save=True)\n",
    "\n"
   ]
  },
  {
   "cell_type": "markdown",
   "metadata": {},
   "source": [
    "### Edge recognition"
   ]
  },
  {
   "cell_type": "code",
   "execution_count": null,
   "metadata": {},
   "outputs": [],
   "source": [
    "# Opening an image\n",
    "img2 = cv2.imread(os.path.join(dataDir, \"42\",    'G042_IMG000.jpg'))\n",
    "\n",
    "# Apply Canny filter\n",
    "img2_canny = cv2.Canny(img2, 50, 200)\n",
    "\n",
    "# Create BGR copy of image\n",
    "img2_copy = cv2.cvtColor(img2_canny, cv2.COLOR_GRAY2BGR)\n",
    "\n",
    "img2 = cv2.resize(img2, (640, 480))\n",
    "img2_canny = cv2.resize(img2_canny, (640, 480))\n",
    "img2_copy = cv2.resize(img2_copy, (640, 480))\n",
    "\n",
    "# Display image\n",
    "cv2.imshow(\"Original\", img2)\n",
    "cv2.imshow(\"Canny\", img2_canny)\n",
    "cv2.imshow(\"Canny copy\", img2_copy)\n",
    "cv2.waitKey(0)\n",
    "cv2.destroyAllWindows()"
   ]
  },
  {
   "cell_type": "markdown",
   "metadata": {},
   "source": [
    "#### line recognition"
   ]
  },
  {
   "cell_type": "code",
   "execution_count": 4,
   "metadata": {},
   "outputs": [],
   "source": [
    "num_votes = 60\n",
    "\n",
    "lines = cv2.HoughLines(img2_canny, 1, np.pi / 180, num_votes, None, 0, 0)\n",
    "\n",
    "if lines is not None:\n",
    "    for i in range(0, len(lines)):\n",
    "        rho = lines[i][0][0]\n",
    "        theta = lines[i][0][1]\n",
    "        a = math.cos(theta)\n",
    "        b = math.sin(theta)\n",
    "        x0 = a * rho\n",
    "        y0 = b * rho\n",
    "        pt1 = (int(x0 + 1000*(-b)), int(y0 + 1000*(a)))\n",
    "        pt2 = (int(x0 - 1000*(-b)), int(y0 - 1000*(a)))\n",
    "        # Draw the line\n",
    "        cv2.line(img2_copy, pt1, pt2, (255,0,0), 3)\n",
    "\n",
    "cv2.imshow(\"Canny\", img2_canny)\n",
    "cv2.imshow(\"Image\", img2_copy)\n",
    "cv2.waitKey(0)\n",
    "cv2.destroyAllWindows()"
   ]
  },
  {
   "cell_type": "markdown",
   "metadata": {},
   "source": [
    "### Detecting chessboard"
   ]
  },
  {
   "cell_type": "markdown",
   "metadata": {},
   "source": [
    "#### Ransac"
   ]
  },
  {
   "cell_type": "code",
   "execution_count": 9,
   "metadata": {},
   "outputs": [],
   "source": [
    "# Coordinates of the square\n",
    "square_coords = np.array([[[1234, 861], [2629, 1375], [2042, 2933], [472, 2159]]], dtype=np.int32)\n",
    "\n",
    "# Create a mask with the same dimensions as the image\n",
    "mask = np.zeros_like(image, dtype=np.uint8)\n",
    "\n",
    "# Fill the square region with white on the mask\n",
    "cv2.fillPoly(mask, square_coords, (255, 255, 255))\n",
    "\n",
    "# Apply the mask to the image\n",
    "masked_image = cv2.bitwise_and(image, mask)\n",
    "\n",
    "# Display the result\n",
    "masked_image = cv2.resize(masked_image, (800, 600))\n",
    "cv2.imshow(\"Masked Image\", masked_image)\n",
    "cv2.waitKey(0)\n",
    "cv2.destroyAllWindows()"
   ]
  }
 ],
 "metadata": {
  "kernelspec": {
   "display_name": "OpenCV",
   "language": "python",
   "name": "python3"
  },
  "language_info": {
   "codemirror_mode": {
    "name": "ipython",
    "version": 3
   },
   "file_extension": ".py",
   "mimetype": "text/x-python",
   "name": "python",
   "nbconvert_exporter": "python",
   "pygments_lexer": "ipython3",
   "version": "3.12.9"
  }
 },
 "nbformat": 4,
 "nbformat_minor": 2
}
