{
 "cells": [
  {
   "cell_type": "code",
   "execution_count": 61,
   "metadata": {},
   "outputs": [],
   "source": [
    "import cv2\n",
    "import numpy as np\n",
    "import os\n",
    "import math\n",
    "from src.our_chessboard_detection import *\n",
    "from matplotlib import pyplot as plt\n",
    "\n",
    "dataDir = 'images' # Change this, according to your images' directory path"
   ]
  },
  {
   "cell_type": "code",
   "execution_count": 63,
   "metadata": {},
   "outputs": [],
   "source": [
    "# Open image\n",
    "image = cv2.imread(os.path.join(dataDir, \"42\", 'G042_IMG003.jpg')) # Change this, according to your image's path\n",
    "\n",
    "#cv2.imshow(\"Image\", image)\n",
    "\n",
    "#cv2.waitKey(0)\n",
    "#cv2.destroyAllWindows()"
   ]
  },
  {
   "cell_type": "markdown",
   "metadata": {},
   "source": [
    "### applying different filters"
   ]
  },
  {
   "cell_type": "code",
   "execution_count": 65,
   "metadata": {},
   "outputs": [
    {
     "data": {
      "text/plain": [
       "'\\ncv2.imshow(\"Original\", image)\\ncv2.imshow(\"gray_image\", gray_image)\\ncv2.imshow(\"blurred\", blurred)\\ncv2.imshow(\"image_canny\", image_canny)\\ncv2.imshow(\"rgb_image\", rgb_image)\\ncv2.waitKey(0)\\ncv2.destroyAllWindows()'"
      ]
     },
     "execution_count": 65,
     "metadata": {},
     "output_type": "execute_result"
    }
   ],
   "source": [
    "\n",
    "# Convert to grayscale\n",
    "gray_image=cv2.cvtColor(image,cv2.COLOR_BGR2GRAY)\n",
    "\n",
    "# gaussian blur\n",
    "# Apply Gaussian blur\n",
    "# to reduce noise and improve corner detection\n",
    "blurred = cv2.GaussianBlur(gray_image, (5, 5), 0)\n",
    "\n",
    "\n",
    "\n",
    "# Apply Canny filter\n",
    "image_canny = cv2.Canny(blurred, 50, 200)\n",
    "\n",
    "\n",
    "# Create RGB copy of image\n",
    "rgb_image = cv2.cvtColor(image, cv2.COLOR_BGR2RGB)\n",
    "\n",
    "\n",
    "# Display image\n",
    "\"\"\"\n",
    "cv2.imshow(\"Original\", image)\n",
    "cv2.imshow(\"gray_image\", gray_image)\n",
    "cv2.imshow(\"blurred\", blurred)\n",
    "cv2.imshow(\"image_canny\", image_canny)\n",
    "cv2.imshow(\"rgb_image\", rgb_image)\n",
    "cv2.waitKey(0)\n",
    "cv2.destroyAllWindows()\"\"\"\n",
    "\n"
   ]
  },
  {
   "cell_type": "markdown",
   "metadata": {},
   "source": [
    "### Detecting chessboard"
   ]
  },
  {
   "cell_type": "code",
   "execution_count": 69,
   "metadata": {},
   "outputs": [],
   "source": [
    "kernel = cv2.getStructuringElement(cv2.MORPH_RECT, (5, 5))\n",
    "closed = cv2.morphologyEx(image_canny, cv2.MORPH_CLOSE, kernel)\n",
    "\n",
    "# Find contours\n",
    "contours, _ = cv2.findContours(closed, cv2.RETR_TREE, cv2.CHAIN_APPROX_SIMPLE)\n",
    "contours = sorted(contours, key=cv2.contourArea, reverse=True)\n",
    "\n",
    "# Optional: draw all contours to debug\n",
    "image_with_contours = image.copy()\n",
    "cv2.drawContours(image_with_contours, contours, -1, (0, 255, 0), 3)\n",
    "\n",
    "\n",
    "squares = []\n",
    "area = 0\n",
    "major_aprox = None\n",
    "for cnt in contours:\n",
    "    epsilon = 0.05 * cv2.arcLength(cnt, True)\n",
    "    approx = cv2.approxPolyDP(cnt, epsilon, True)\n",
    "    if len(approx) == 4 and cv2.isContourConvex(approx):\n",
    "        if area < cv2.contourArea(cnt):\n",
    "            major_aprox= approx\n",
    "            area = cv2.contourArea(cnt)\n",
    "            \n",
    "\n",
    "\n",
    "contours_detected = image.copy()\n",
    "#cv2.drawContours(contours_detected, [major_aprox], -1, (0, 0, 255), 10)\n",
    "\n",
    "#cv2.imshow(\"Contours Detected\", contours_detected)\n",
    "#cv2.waitKey(0)\n",
    "#cv2.destroyAllWindows()\n"
   ]
  },
  {
   "cell_type": "code",
   "execution_count": 70,
   "metadata": {},
   "outputs": [],
   "source": [
    "# Order the 4 points: top-left, top-right, bottom-right, bottom-left\n",
    "pts = major_aprox.reshape(4, 2)\n",
    "# You might need to sort/order these manually if OpenCV gives them in random order\n",
    "\n",
    "# Define destination points for the warp\n",
    "side = 400  # size of the output square\n",
    "dst = np.array([[0, 0], [side - 1, 0], [side - 1, side - 1], [0, side - 1]], dtype='float32')\n",
    "\n",
    "# Compute the transform matrix and warp\n",
    "M = cv2.getPerspectiveTransform(np.float32(pts), dst)\n",
    "warped = cv2.warpPerspective(image, M, (side, side))\n",
    "\n",
    "# Display the warped image\n",
    "cv2.imshow(\"Warped Image\", warped)\n",
    "cv2.waitKey(0)\n",
    "cv2.destroyAllWindows()"
   ]
  }
 ],
 "metadata": {
  "kernelspec": {
   "display_name": "cv-venv",
   "language": "python",
   "name": "python3"
  },
  "language_info": {
   "codemirror_mode": {
    "name": "ipython",
    "version": 3
   },
   "file_extension": ".py",
   "mimetype": "text/x-python",
   "name": "python",
   "nbconvert_exporter": "python",
   "pygments_lexer": "ipython3",
   "version": "3.13.2"
  }
 },
 "nbformat": 4,
 "nbformat_minor": 2
}
