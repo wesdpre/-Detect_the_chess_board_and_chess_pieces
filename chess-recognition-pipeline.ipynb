{
 "cells": [
  {
   "cell_type": "code",
   "execution_count": null,
   "metadata": {
    "ExecuteTime": {
     "end_time": "2025-04-10T15:48:06.011150Z",
     "start_time": "2025-04-10T15:48:03.654245Z"
    },
    "collapsed": true,
    "jupyter": {
     "outputs_hidden": true
    }
   },
   "outputs": [],
   "source": [
    "import cv2\n",
    "import numpy as np\n",
    "import os\n",
    "import math\n",
    "from src.our_chessboard_detection import *\n",
    "from matplotlib import pyplot as plt\n",
    "\n",
    "dataDir = 'images/' # Change this, according to your images' directory path"
   ]
  },
  {
   "cell_type": "code",
   "execution_count": null,
   "metadata": {
    "ExecuteTime": {
     "end_time": "2025-04-10T15:48:09.521821Z",
     "start_time": "2025-04-10T15:48:07.671183Z"
    },
    "collapsed": true,
    "jupyter": {
     "outputs_hidden": true
    }
   },
   "outputs": [],
   "source": [
    "# Open image\n",
    "image = cv2.imread(os.path.join(dataDir, 'G000_IMG062.jpg')) # Change this, according to your image's path\n",
    "rgb = cv2.cvtColor(image, cv2.COLOR_BGR2RGB)\n",
    "# cv2.imshow(\"Image\", image)\n",
    "# cv2.waitKey(0)\n",
    "# cv2.destroyAllWindows()\n",
    "plt.imshow(rgb)"
   ]
  },
  {
   "cell_type": "markdown",
   "metadata": {},
   "source": [
    "### applying different filters"
   ]
  },
  {
   "cell_type": "code",
   "execution_count": null,
   "metadata": {
    "ExecuteTime": {
     "end_time": "2025-04-10T15:48:21.374175Z",
     "start_time": "2025-04-10T15:48:18.152790Z"
    },
    "collapsed": true,
    "jupyter": {
     "outputs_hidden": true
    }
   },
   "outputs": [],
   "source": [
    "filtered_images = apply_filters(image, True)"
   ]
  },
  {
   "cell_type": "markdown",
   "metadata": {},
   "source": [
    "### Detecting chessboard"
   ]
  },
  {
   "cell_type": "code",
   "execution_count": null,
   "metadata": {
    "ExecuteTime": {
     "end_time": "2025-04-10T15:48:29.498559Z",
     "start_time": "2025-04-10T15:48:26.832139Z"
    }
   },
   "outputs": [],
   "source": [
    "chess_contour = get_contours(filtered_images, show=True,  kernel_size=(25,25) ,  kernel_usage=True, iterations=4)"
   ]
  },
  {
   "cell_type": "markdown",
   "metadata": {},
   "source": [
    "### rotate and warp"
   ]
  },
  {
   "cell_type": "code",
   "execution_count": null,
   "metadata": {
    "ExecuteTime": {
     "end_time": "2025-04-10T15:48:36.129640Z",
     "start_time": "2025-04-10T15:48:34.255839Z"
    },
    "collapsed": true,
    "jupyter": {
     "outputs_hidden": true
    }
   },
   "outputs": [],
   "source": [
    "warped_image, M = rotate_and_crop(filtered_images, chess_contour[0][1], show=True)"
   ]
  },
  {
   "cell_type": "code",
   "execution_count": null,
   "metadata": {},
   "outputs": [],
   "source": [
    "\n",
    "# Find the best rotation angle\n",
    "rotated_image, best_angle = align_board(warped_image, radius=12, angle_step=90)\n",
    "\n",
    "# Show the rotated image and the best angle\n",
    "plt.imshow(rotated_image, cmap='gray')\n",
    "plt.axis('off')\n",
    "plt.show()\n"
   ]
  },
  {
   "cell_type": "code",
   "execution_count": null,
   "metadata": {},
   "outputs": [],
   "source": [
    "print(best_angle)"
   ]
  },
  {
   "cell_type": "code",
   "execution_count": null,
   "metadata": {
    "ExecuteTime": {
     "end_time": "2025-04-10T15:48:42.339121Z",
     "start_time": "2025-04-10T15:48:42.065137Z"
    },
    "collapsed": true,
    "jupyter": {
     "outputs_hidden": true
    }
   },
   "outputs": [],
   "source": [
    "grid_image = chesboard_grids(rotated_image, show = True)"
   ]
  },
  {
   "cell_type": "code",
   "execution_count": null,
   "metadata": {},
   "outputs": [],
   "source": [
    "def adjust_gamma(image, gamma=1.0):\n",
    "    inv_gamma = 1.0 / gamma\n",
    "    table = np.array([((i / 255.0) ** inv_gamma) * 255 for i in range(256)]).astype(\"uint8\")\n",
    "    return cv2.LUT(image, table)\n",
    "\n",
    "def adjust_contrast(image, alpha=1.5, beta=0):\n",
    "    adjusted = cv2.convertScaleAbs(image, alpha=alpha, beta=beta)\n",
    "    return adjusted\n",
    "\n",
    "def normalize_white_pieces(square_rgb):\n",
    "    hsv = cv2.cvtColor(square_rgb, cv2.COLOR_RGB2HSV)\n",
    "    h, s, v = cv2.split(hsv)\n",
    "    mask = (\n",
    "        (h >= 15) & (h <= 45) &\n",
    "        (s >= 15) & (s <= 200) &\n",
    "        (v >= 100) & (v <= 240)\n",
    "    )\n",
    "    hsv[mask] = (30, 180, 200)\n",
    "    return cv2.cvtColor(hsv, cv2.COLOR_HSV2RGB)\n",
    "\n",
    "def display_chessboard_squares(warped, gamma=1.5):\n",
    "    img_grid = warped.copy()\n",
    "    squares = []\n",
    "\n",
    "    for row in range(8):\n",
    "        for col in range(8):\n",
    "            x1 = margin + col * square_size\n",
    "            y1 = margin + row * square_size\n",
    "            x2 = x1 + square_size\n",
    "            y2 = y1 + square_size\n",
    "\n",
    "            square = warped[y1:y2, x1:x2]\n",
    "            square_rgb = cv2.cvtColor(square, cv2.COLOR_BGR2RGB)\n",
    "            image_light = adjust_gamma(square_rgb, gamma)\n",
    "            image_norm = normalize_white_pieces(image_light)\n",
    "            image_contrast = adjust_contrast(image_norm, alpha=1.3, beta=0)\n",
    "            image_filtered = cv2.medianBlur(image_contrast, 5)\n",
    "            squares.append(image_filtered)\n",
    "\n",
    "    fig, axes = plt.subplots(8, 8, figsize=(10, 10))\n",
    "    for i, ax in enumerate(axes.flatten()):\n",
    "        ax.imshow(squares[i])\n",
    "        ax.axis('off')\n",
    "        ax.set_title(f\"{i}\", fontsize=10)\n",
    "\n",
    "    plt.subplots_adjust(wspace=0.5, hspace=0.5)\n",
    "    plt.show()\n",
    "\n",
    "    return squares"
   ]
  },
  {
   "cell_type": "code",
   "execution_count": null,
   "metadata": {},
   "outputs": [],
   "source": [
    "squares = display_chessboard_squares(rotated_image)"
   ]
  },
  {
   "cell_type": "code",
   "execution_count": null,
   "metadata": {},
   "outputs": [],
   "source": [
    "def check_piece_at_center(square, black_piece=(45, 45, 45), white_piece=(255, 252, 94)):\n",
    "    \n",
    "    # Center of the square\n",
    "    center_x = square.shape[1] // 2\n",
    "    center_y = square.shape[0] // 2\n",
    "\n",
    "    # Crop a small region around the center 3x3\n",
    "    crop_size = 3 \n",
    "    crop_x1 = max(center_x - crop_size // 2, 0)\n",
    "    crop_y1 = max(center_y - crop_size // 2, 0)\n",
    "    crop_x2 = min(center_x + crop_size // 2, square.shape[1])\n",
    "    crop_y2 = min(center_y + crop_size // 2, square.shape[0])\n",
    "\n",
    "    # Crop the center region\n",
    "    cropped_region = square[crop_y1:crop_y2, crop_x1:crop_x2]\n",
    "\n",
    "    # Calculate the average color of the center\n",
    "    avg_color = np.mean(cropped_region, axis=(0, 1))\n",
    "\n",
    "    # Compare the average color with the predefined values\n",
    "    if np.allclose(avg_color, white_piece, atol=50):  # allow a tolerance for slight color variations\n",
    "        return \"WHITE\"\n",
    "    elif np.allclose(avg_color, black_piece, atol=50):\n",
    "        return \"BLACK\"\n",
    "    else:\n",
    "        return \"EMPTY\""
   ]
  },
  {
   "cell_type": "code",
   "execution_count": null,
   "metadata": {},
   "outputs": [],
   "source": [
    "def process_chessboard(squares):\n",
    "    # Initialize matrix for 8x8 board and counters for white and black pieces\n",
    "    board_matrix = np.zeros((8, 8))\n",
    "    white_count = 0\n",
    "    black_count = 0\n",
    "\n",
    "    for i in range(8):\n",
    "        for j in range(8):\n",
    "            square = squares[i * 8 + j]\n",
    "\n",
    "            # Check the piece at the center of the square\n",
    "            piece_type = check_piece_at_center(square)\n",
    "\n",
    "            # If the piece is a WHITE or BLACK\n",
    "            if piece_type == \"WHITE\" or piece_type == \"BLACK\":\n",
    "                board_matrix[i, j] = 1\n",
    "                # Count white and black pieces\n",
    "                if piece_type == \"WHITE\":\n",
    "                    white_count += 1\n",
    "                elif piece_type == \"BLACK\":\n",
    "                    black_count += 1\n",
    "\n",
    "    # Print the board matrix\n",
    "    print(\"Board Matrix (8x8):\")\n",
    "    print(board_matrix)\n",
    "\n",
    "    # Print the counts of cream and black pieces\n",
    "    print(f\"White pieces: {white_count}\")\n",
    "    print(f\"Black pieces: {black_count}\")\n",
    "\n",
    "    return board_matrix"
   ]
  },
  {
   "cell_type": "code",
   "execution_count": null,
   "metadata": {},
   "outputs": [],
   "source": [
    "board_matrix = process_chessboard(squares)"
   ]
  },
  {
   "cell_type": "code",
   "execution_count": null,
   "metadata": {},
   "outputs": [],
   "source": [
    "def reverse_piece_coordinates(piece_coords, rotation_angle, perspective_matrix, rotated_image_shape):\n",
    "    \"\"\"\n",
    "    Reverses perspective and rotation transforms to map piece bounding boxes\n",
    "    back to coordinates in the original image.\n",
    "\n",
    "    Args:\n",
    "        piece_coords: list of dicts with keys 'xmin', 'xmax', 'ymin', 'ymax'\n",
    "        rotation_angle: angle used to rotate the warped image\n",
    "        perspective_matrix: M used for perspective warp (cv2.getPerspectiveTransform)\n",
    "        rotated_image_shape: shape of the rotated (aligned) image\n",
    "\n",
    "    Returns:\n",
    "        A list of dictionaries with original image coordinates using the same bounding box keys.\n",
    "    \"\"\"\n",
    "    h_rot, w_rot = rotated_image_shape[:2]\n",
    "    center = (w_rot // 2, h_rot // 2)\n",
    "\n",
    "    # Create inverse rotation matrix\n",
    "    R = cv2.getRotationMatrix2D(center, rotation_angle, 1.0)\n",
    "    R_3x3 = np.vstack([R, [0, 0, 1]])\n",
    "    R_inv = np.linalg.inv(R_3x3)\n",
    "\n",
    "    # Collect all corner points from bounding boxes\n",
    "    all_points = []\n",
    "    box_indices = []\n",
    "\n",
    "    for idx, box in enumerate(piece_coords):\n",
    "        corners = [\n",
    "            [box['xmin'], box['ymin']],\n",
    "            [box['xmax'], box['ymin']],\n",
    "            [box['xmax'], box['ymax']],\n",
    "            [box['xmin'], box['ymax']]\n",
    "        ]\n",
    "        all_points.extend(corners)\n",
    "        box_indices.extend([idx] * 4)\n",
    "\n",
    "    # Apply inverse rotation\n",
    "    points_np = np.array(all_points, dtype=np.float32)\n",
    "    points_hom = np.hstack([points_np, np.ones((len(points_np), 1))])\n",
    "    coords_in_warped = (R_inv @ points_hom.T).T[:, :2]\n",
    "\n",
    "    # Apply inverse perspective\n",
    "    M_inv = np.linalg.inv(perspective_matrix)\n",
    "    coords_in_warped = np.array(coords_in_warped, dtype=np.float32).reshape(-1, 1, 2)\n",
    "    coords_in_original = cv2.perspectiveTransform(coords_in_warped, M_inv).reshape(-1, 2)\n",
    "\n",
    "    # Group back into box dictionaries\n",
    "    original_boxes = [{} for _ in range(len(piece_coords))]\n",
    "    for i in range(len(piece_coords)):\n",
    "        box_points = coords_in_original[i * 4: (i + 1) * 4]\n",
    "        x_vals = box_points[:, 0]\n",
    "        y_vals = box_points[:, 1]\n",
    "        original_boxes[i] = {\n",
    "            \"xmin\": int(np.min(x_vals)),\n",
    "            \"ymin\": int(np.min(y_vals)),\n",
    "            \"xmax\": int(np.max(x_vals)),\n",
    "            \"ymax\": int(np.max(y_vals))\n",
    "        }\n",
    "\n",
    "    return original_boxes"
   ]
  },
  {
   "cell_type": "code",
   "execution_count": null,
   "metadata": {},
   "outputs": [],
   "source": [
    "# Build list of centers of squares with pieces\n",
    "piece_coords = []\n",
    "for i in range(8):\n",
    "    for j in range(8):\n",
    "        if board_matrix[i, j] == 1:\n",
    "            x1 = margin + j * square_size\n",
    "            y1 = margin + i * square_size\n",
    "            x2 = x1 + square_size\n",
    "            y2 = y1 + square_size\n",
    "\n",
    "            piece_coords.append({\n",
    "                \"xmin\": int(x1),\n",
    "                \"ymin\": int(y1),\n",
    "                \"xmax\": int(x2),\n",
    "                \"ymax\": int(y2)\n",
    "            })\n",
    "\n",
    "\n",
    "# Reverse transforms\n",
    "original_coords = reverse_piece_coordinates(\n",
    "    piece_coords,\n",
    "    rotation_angle=best_angle,  # from align_board\n",
    "    perspective_matrix=M,       # from rotate_and_crop\n",
    "    rotated_image_shape=rotated_image.shape\n",
    ")\n",
    "\n",
    "print(original_coords)"
   ]
  },
  {
   "cell_type": "code",
   "execution_count": null,
   "metadata": {},
   "outputs": [],
   "source": []
  }
 ],
 "metadata": {
  "kernelspec": {
   "display_name": "Python 3",
   "language": "python",
   "name": "python3"
  },
  "language_info": {
   "codemirror_mode": {
    "name": "ipython",
    "version": 3
   },
   "file_extension": ".py",
   "mimetype": "text/x-python",
   "name": "python",
   "nbconvert_exporter": "python",
   "pygments_lexer": "ipython3",
   "version": "3.10.12"
  }
 },
 "nbformat": 4,
 "nbformat_minor": 4
}
