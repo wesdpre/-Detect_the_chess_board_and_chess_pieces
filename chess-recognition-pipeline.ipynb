{
 "cells": [
  {
   "cell_type": "code",
   "execution_count": null,
   "metadata": {
    "ExecuteTime": {
     "end_time": "2025-04-10T15:48:06.011150Z",
     "start_time": "2025-04-10T15:48:03.654245Z"
    },
    "collapsed": true,
    "jupyter": {
     "outputs_hidden": true
    }
   },
   "outputs": [],
   "source": [
    "import cv2\n",
    "import numpy as np\n",
    "import os\n",
    "import math\n",
    "from src.our_chessboard_detection import *\n",
    "from matplotlib import pyplot as plt\n",
    "\n",
    "dataDir = 'images' # Change this, according to your images' directory path"
   ]
  },
  {
   "cell_type": "code",
   "execution_count": null,
   "metadata": {
    "ExecuteTime": {
     "end_time": "2025-04-10T15:48:09.521821Z",
     "start_time": "2025-04-10T15:48:07.671183Z"
    },
    "collapsed": true,
    "jupyter": {
     "outputs_hidden": true
    }
   },
   "outputs": [],
   "source": [
    "# Open image\n",
    "image = cv2.imread(os.path.join(dataDir, 'G000_IMG062.jpg')) # Change this, according to your image's path\n",
    "rgb = cv2.cvtColor(image, cv2.COLOR_BGR2RGB)\n",
    "# cv2.imshow(\"Image\", image)\n",
    "# cv2.waitKey(0)\n",
    "# cv2.destroyAllWindows()\n",
    "plt.imshow(rgb)"
   ]
  },
  {
   "cell_type": "markdown",
   "metadata": {},
   "source": [
    "### applying different filters"
   ]
  },
  {
   "cell_type": "code",
   "execution_count": null,
   "metadata": {
    "ExecuteTime": {
     "end_time": "2025-04-10T15:48:21.374175Z",
     "start_time": "2025-04-10T15:48:18.152790Z"
    },
    "collapsed": true,
    "jupyter": {
     "outputs_hidden": true
    }
   },
   "outputs": [],
   "source": [
    "filtered_images = apply_filters(image, True)"
   ]
  },
  {
   "cell_type": "markdown",
   "metadata": {},
   "source": [
    "### Detecting chessboard"
   ]
  },
  {
   "cell_type": "code",
   "execution_count": null,
   "metadata": {
    "ExecuteTime": {
     "end_time": "2025-04-10T15:48:29.498559Z",
     "start_time": "2025-04-10T15:48:26.832139Z"
    }
   },
   "outputs": [],
   "source": [
    "chess_contour = get_contours(filtered_images, show=True,  kernel_size=(25,25) ,  kernel_usage=True, iterations=4)"
   ]
  },
  {
   "cell_type": "markdown",
   "metadata": {},
   "source": [
    "### rotate and warp"
   ]
  },
  {
   "cell_type": "code",
   "execution_count": null,
   "metadata": {
    "ExecuteTime": {
     "end_time": "2025-04-10T15:48:36.129640Z",
     "start_time": "2025-04-10T15:48:34.255839Z"
    },
    "collapsed": true,
    "jupyter": {
     "outputs_hidden": true
    }
   },
   "outputs": [],
   "source": [
    "warped_image, M = rotate_and_crop(filtered_images, chess_contour[0][1], show=True)"
   ]
  },
  {
   "cell_type": "code",
   "execution_count": null,
   "metadata": {},
   "outputs": [],
   "source": [
    "cv2.imwrite('test.jpg', warped_image)"
   ]
  },
  {
   "cell_type": "code",
   "execution_count": null,
   "metadata": {
    "ExecuteTime": {
     "end_time": "2025-04-10T15:48:42.339121Z",
     "start_time": "2025-04-10T15:48:42.065137Z"
    },
    "collapsed": true,
    "jupyter": {
     "outputs_hidden": true
    }
   },
   "outputs": [],
   "source": [
    "grid_image = chesboard_grids(warped_image, show = True)"
   ]
  },
  {
   "cell_type": "code",
   "execution_count": null,
   "metadata": {},
   "outputs": [],
   "source": [
    "inverse_rotate_crop(grid_image, M, image, True)"
   ]
  },
  {
   "cell_type": "code",
   "execution_count": null,
   "metadata": {
    "collapsed": true,
    "jupyter": {
     "outputs_hidden": true
    }
   },
   "outputs": [],
   "source": [
    "squares = display_chessboard_squares(warped_image)"
   ]
  },
  {
   "cell_type": "code",
   "execution_count": null,
   "metadata": {},
   "outputs": [],
   "source": [
    "def adjust_gamma(image, gamma=1.0):\n",
    "    inv_gamma = 1.0 / gamma\n",
    "    table = np.array([((i / 255.0) ** inv_gamma) * 255 for i in range(256)]).astype(\"uint8\")\n",
    "    return cv2.LUT(image, table)\n",
    "\n",
    "def adjust_contrast(image, alpha=1.5, beta=0):\n",
    "    adjusted = cv2.convertScaleAbs(image, alpha=alpha, beta=beta)\n",
    "    return adjusted\n",
    "\n",
    "def normalize_white_pieces(square_rgb):\n",
    "    hsv = cv2.cvtColor(square_rgb, cv2.COLOR_RGB2HSV)\n",
    "    h, s, v = cv2.split(hsv)\n",
    "    mask = (\n",
    "        (h >= 15) & (h <= 45) &\n",
    "        (s >= 50) & (s <= 200) &\n",
    "        (v >= 100) & (v <= 240)\n",
    "    )\n",
    "    hsv[mask] = (30, 180, 200)\n",
    "    return cv2.cvtColor(hsv, cv2.COLOR_HSV2RGB)\n",
    "\n",
    "def display_chessboard_squares(warped, gamma=1.5):\n",
    "    img_grid = warped.copy()\n",
    "    squares = []\n",
    "\n",
    "    for row in range(8):\n",
    "        for col in range(8):\n",
    "            x1 = margin + col * square_size\n",
    "            y1 = margin + row * square_size\n",
    "            x2 = x1 + square_size\n",
    "            y2 = y1 + square_size\n",
    "\n",
    "            square = warped[y1:y2, x1:x2]\n",
    "            square_rgb = cv2.cvtColor(square, cv2.COLOR_BGR2RGB)\n",
    "            image_light = adjust_gamma(square_rgb, gamma)\n",
    "            image_norm = normalize_white_pieces(image_light)\n",
    "            image_contrast = adjust_contrast(image_norm, alpha=1.3, beta=0)\n",
    "            image_filtered = cv2.medianBlur(image_contrast, 5)\n",
    "            squares.append(image_filtered)\n",
    "\n",
    "    fig, axes = plt.subplots(8, 8, figsize=(10, 10))\n",
    "    for i, ax in enumerate(axes.flatten()):\n",
    "        ax.imshow(squares[i])\n",
    "        ax.axis('off')\n",
    "        ax.set_title(f\"{i}\", fontsize=10)\n",
    "\n",
    "    plt.subplots_adjust(wspace=0.5, hspace=0.5)\n",
    "    plt.show()\n",
    "\n",
    "    return squares"
   ]
  },
  {
   "cell_type": "code",
   "execution_count": null,
   "metadata": {},
   "outputs": [],
   "source": [
    "squares = display_chessboard_squares(warped_image)"
   ]
  },
  {
   "cell_type": "code",
   "execution_count": null,
   "metadata": {},
   "outputs": [],
   "source": [
    "def check_piece_at_center(square, black_piece=(45, 45, 45), white_piece=(255, 252, 94)):\n",
    "    \n",
    "    # Center of the square\n",
    "    center_x = square.shape[1] // 2\n",
    "    center_y = square.shape[0] // 2\n",
    "\n",
    "    # Crop a small region around the center 3x3\n",
    "    crop_size = 3 \n",
    "    crop_x1 = max(center_x - crop_size // 2, 0)\n",
    "    crop_y1 = max(center_y - crop_size // 2, 0)\n",
    "    crop_x2 = min(center_x + crop_size // 2, square.shape[1])\n",
    "    crop_y2 = min(center_y + crop_size // 2, square.shape[0])\n",
    "\n",
    "    # Crop the center region\n",
    "    cropped_region = square[crop_y1:crop_y2, crop_x1:crop_x2]\n",
    "\n",
    "    # Calculate the average color of the center\n",
    "    avg_color = np.mean(cropped_region, axis=(0, 1))\n",
    "\n",
    "    # Compare the average color with the predefined values\n",
    "    if np.allclose(avg_color, white_piece, atol=50):  # allow a tolerance for slight color variations\n",
    "        return \"WHITE\"\n",
    "    elif np.allclose(avg_color, black_piece, atol=35):\n",
    "        return \"BLACK\"\n",
    "    else:\n",
    "        return \"EMPTY\""
   ]
  },
  {
   "cell_type": "code",
   "execution_count": null,
   "metadata": {},
   "outputs": [],
   "source": [
    "def process_chessboard(squares):\n",
    "    # Initialize matrix for 8x8 board and counters for white and black pieces\n",
    "    board_matrix = np.zeros((8, 8))\n",
    "    white_count = 0\n",
    "    black_count = 0\n",
    "\n",
    "    for i in range(8):\n",
    "        for j in range(8):\n",
    "            square = squares[i * 8 + j]\n",
    "\n",
    "            # Check the piece at the center of the square\n",
    "            piece_type = check_piece_at_center(square)\n",
    "\n",
    "            # If the piece is a WHITE or BLACK\n",
    "            if piece_type == \"WHITE\" or piece_type == \"BLACK\":\n",
    "                board_matrix[i, j] = 1\n",
    "\n",
    "                # Count white and black pieces\n",
    "                if piece_type == \"WHITE\":\n",
    "                    white_count += 1\n",
    "                elif piece_type == \"BLACK\":\n",
    "                    black_count += 1\n",
    "\n",
    "    # Print the board matrix\n",
    "    print(\"Board Matrix (8x8):\")\n",
    "    print(board_matrix)\n",
    "\n",
    "    # Print the counts of cream and black pieces\n",
    "    print(f\"White pieces: {white_count}\")\n",
    "    print(f\"Black pieces: {black_count}\")"
   ]
  },
  {
   "cell_type": "code",
   "execution_count": null,
   "metadata": {},
   "outputs": [],
   "source": [
    "process_chessboard(squares)"
   ]
  }
 ],
 "metadata": {
  "kernelspec": {
   "display_name": "Python [conda env:base] *",
   "language": "python",
   "name": "conda-base-py"
  },
  "language_info": {
   "codemirror_mode": {
    "name": "ipython",
    "version": 3
   },
   "file_extension": ".py",
   "mimetype": "text/x-python",
   "name": "python",
   "nbconvert_exporter": "python",
   "pygments_lexer": "ipython3",
   "version": "3.12.2"
  }
 },
 "nbformat": 4,
 "nbformat_minor": 4
}
