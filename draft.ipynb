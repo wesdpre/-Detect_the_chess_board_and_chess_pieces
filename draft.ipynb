{
 "cells": [
  {
   "cell_type": "markdown",
   "metadata": {},
   "source": [
    "# COMPUTER VISION\n",
    "## Project: Detect the chess board\n",
    "\n",
    "group 14\n",
    "- Pedro Azevedo, up 201905955\n",
    "- Santiago Pineda up 202403071\n",
    "- \n",
    "- Michal kowalski up 202401554"
   ]
  },
  {
   "cell_type": "markdown",
   "metadata": {},
   "source": [
    "### Install requirements"
   ]
  },
  {
   "cell_type": "code",
   "execution_count": null,
   "metadata": {},
   "outputs": [],
   "source": [
    "! pip install -r requirements.txt"
   ]
  },
  {
   "cell_type": "markdown",
   "metadata": {},
   "source": [
    "## prepare the image"
   ]
  },
  {
   "cell_type": "code",
   "execution_count": 3,
   "metadata": {},
   "outputs": [],
   "source": [
    "import cv2\n",
    "import numpy as np\n",
    "import os\n",
    "from src.src import *\n",
    "\n",
    "\n",
    "# Path to directory with images\n",
    "dataDir = os.path.join(\".\",\"images\", '42')\n",
    "auxiliaryDir = os.path.join(\"images\", 'auxiliary_data')"
   ]
  },
  {
   "cell_type": "code",
   "execution_count": 4,
   "metadata": {},
   "outputs": [
    {
     "name": "stdout",
     "output_type": "stream",
     "text": [
      "hi ['.\\\\images\\\\42\\\\G042_IMG000.jpg']\n",
      "hi\n"
     ]
    }
   ],
   "source": [
    "# Open testing image\n",
    "img_path = [os.path.join(dataDir, 'G042_IMG000.jpg')]\n",
    "print(\"hi\", img_path)\n",
    "# Read image\n",
    "imgs, gray_imgs, img_names = read_images(img_path)\n",
    "print(\"hi\")\n",
    "# Show image\n",
    "show_imags(imgs, img_names)\n",
    "show_imags(gray_imgs, img_names)"
   ]
  },
  {
   "cell_type": "code",
   "execution_count": 23,
   "metadata": {},
   "outputs": [
    {
     "name": "stdout",
     "output_type": "stream",
     "text": [
      "[[[1351.8352 1165.5884]]\n",
      "\n",
      " [[1494.5952 1220.1064]]\n",
      "\n",
      " [[1639.7709 1274.145 ]]\n",
      "\n",
      " [[1787.9015 1327.5905]]\n",
      "\n",
      " [[1939.9341 1388.2937]]\n",
      "\n",
      " [[2096.431  1448.4077]]\n",
      "\n",
      " [[2256.7808 1509.1827]]\n",
      "\n",
      " [[1280.6589 1295.581 ]]\n",
      "\n",
      " [[1425.2246 1352.6926]]\n",
      "\n",
      " [[1571.867  1409.0322]]\n",
      "\n",
      " [[1721.2777 1464.8938]]\n",
      "\n",
      " [[1874.7166 1528.0142]]\n",
      "\n",
      " [[2033.2668 1591.1254]]\n",
      "\n",
      " [[2195.9473 1654.7836]]\n",
      "\n",
      " [[1206.971  1429.5343]]\n",
      "\n",
      " [[1353.2695 1488.8643]]\n",
      "\n",
      " [[1501.7563 1547.7631]]\n",
      "\n",
      " [[1652.7014 1606.3673]]\n",
      "\n",
      " [[1808.0254 1672.469 ]]\n",
      "\n",
      " [[1968.3848 1738.4281]]\n",
      "\n",
      " [[2133.3665 1805.4183]]\n",
      "\n",
      " [[1129.8411 1568.121 ]]\n",
      "\n",
      " [[1278.696  1629.8988]]\n",
      "\n",
      " [[1428.9352 1691.6732]]\n",
      "\n",
      " [[1581.28   1752.6188]]\n",
      "\n",
      " [[1739.3826 1822.1536]]\n",
      "\n",
      " [[1901.7634 1891.515 ]]\n",
      "\n",
      " [[2068.5989 1961.5957]]\n",
      "\n",
      " [[1049.6405 1712.1553]]\n",
      "\n",
      " [[1200.3148 1776.7589]]\n",
      "\n",
      " [[1353.3733 1841.5676]]\n",
      "\n",
      " [[1507.0131 1906.3699]]\n",
      "\n",
      " [[1668.3522 1978.2855]]\n",
      "\n",
      " [[1832.8007 2050.9153]]\n",
      "\n",
      " [[2001.5402 2124.0803]]\n",
      "\n",
      " [[ 966.5038 1862.2653]]\n",
      "\n",
      " [[1119.0297 1929.798 ]]\n",
      "\n",
      " [[1273.9491 1997.9806]]\n",
      "\n",
      " [[1431.4786 2066.725 ]]\n",
      "\n",
      " [[1594.3077 2141.2214]]\n",
      "\n",
      " [[1761.1166 2216.572 ]]\n",
      "\n",
      " [[1931.632  2292.1987]]\n",
      "\n",
      " [[ 881.1987 2017.2169]]\n",
      "\n",
      " [[1034.7754 2088.2825]]\n",
      "\n",
      " [[1191.8601 2160.2146]]\n",
      "\n",
      " [[1351.5848 2232.5334]]\n",
      "\n",
      " [[1517.1146 2309.6052]]\n",
      "\n",
      " [[1686.1    2387.3403]]\n",
      "\n",
      " [[1859.0585 2466.0388]]]\n"
     ]
    }
   ],
   "source": [
    "ret, corners = cv2.findChessboardCornersSB(imgs[0], (7,7), None)\n",
    "print(corners)"
   ]
  },
  {
   "cell_type": "code",
   "execution_count": 25,
   "metadata": {},
   "outputs": [
    {
     "name": "stdout",
     "output_type": "stream",
     "text": [
      "None\n"
     ]
    }
   ],
   "source": [
    "img = imgs[0]\n",
    "img = cv2.resize(img, (640, 480))\n",
    "\n",
    "ret, corners = cv2.findChessboardCornersSB(img, (7,7), None)\n",
    "\n",
    "print(corners)"
   ]
  },
  {
   "cell_type": "code",
   "execution_count": 28,
   "metadata": {},
   "outputs": [],
   "source": [
    "img = imgs[0]\n",
    "original_height, original_width = img.shape[:2]\n",
    "resized_width, resized_height = 640, 480\n",
    "\n",
    "ret, corners = cv2.findChessboardCornersSB(img, (7,7), None)\n",
    "\n",
    "img_rersize = cv2.resize(img, (resized_width, resized_height))\n",
    "\n",
    "if True:\n",
    "   objpoints.append(objp)\n",
    "   \n",
    "   # Scale the corner coordinates\n",
    "   scale_x = resized_width / original_width\n",
    "   scale_y = resized_height / original_height\n",
    "   scaled_corners = corners * np.array([[[scale_x, scale_y]]], dtype=np.float32)\n",
    "   \n",
    "   # Draw and display the corners\n",
    "   fnl = cv2.drawChessboardCorners(img_rersize, (7,7), scaled_corners, ret)\n",
    "   \n",
    "   show_imags([fnl])\n",
    "\n",
    "cv2.destroyAllWindows()"
   ]
  },
  {
   "cell_type": "code",
   "execution_count": 5,
   "metadata": {},
   "outputs": [
    {
     "name": "stdout",
     "output_type": "stream",
     "text": [
      "Image G042_IMG000 has corners\n",
      "Image G042_IMG001 does not have corners\n",
      "Image G042_IMG002 does not have corners\n",
      "Image G042_IMG003 does not have corners\n",
      "Image G042_IMG004 does not have corners\n",
      "Image G042_IMG005 does not have corners\n",
      "Image G042_IMG006 does not have corners\n",
      "Image G042_IMG007 does not have corners\n",
      "Image G042_IMG008 does not have corners\n",
      "Image G042_IMG009 does not have corners\n",
      "Image G042_IMG010 does not have corners\n",
      "Image G042_IMG011 does not have corners\n",
      "Image G042_IMG012 does not have corners\n",
      "Image G042_IMG013 does not have corners\n",
      "Image G042_IMG014 does not have corners\n",
      "Image G042_IMG015 has corners\n",
      "Image G042_IMG016 does not have corners\n",
      "Image G042_IMG017 does not have corners\n",
      "Image G042_IMG018 does not have corners\n",
      "Image G042_IMG019 has corners\n",
      "Image G042_IMG020 does not have corners\n",
      "Image G042_IMG021 does not have corners\n",
      "Image G042_IMG022 does not have corners\n",
      "Image G042_IMG023 does not have corners\n",
      "Image G042_IMG024 does not have corners\n",
      "Image G042_IMG025 does not have corners\n",
      "Image G042_IMG026 has corners\n",
      "Image G042_IMG027 does not have corners\n",
      "Image G042_IMG028 has corners\n",
      "Image G042_IMG029 does not have corners\n",
      "Image G042_IMG030 does not have corners\n",
      "Image G042_IMG031 does not have corners\n",
      "Image G042_IMG032 does not have corners\n",
      "Image G042_IMG033 does not have corners\n",
      "Image G042_IMG034 does not have corners\n",
      "Image G042_IMG035 does not have corners\n",
      "Image G042_IMG036 does not have corners\n",
      "Image G042_IMG037 does not have corners\n",
      "Image G042_IMG038 does not have corners\n",
      "Image G042_IMG039 has corners\n",
      "Image G042_IMG040 does not have corners\n",
      "Image G042_IMG041 has corners\n",
      "Image G042_IMG042 does not have corners\n",
      "Image G042_IMG043 does not have corners\n",
      "Image G042_IMG044 does not have corners\n",
      "Image G042_IMG045 does not have corners\n",
      "Image G042_IMG046 does not have corners\n",
      "Image G042_IMG047 does not have corners\n",
      "Image G042_IMG048 has corners\n",
      "Image G042_IMG049 does not have corners\n",
      "Image G042_IMG050 does not have corners\n",
      "Image G042_IMG051 does not have corners\n",
      "Image G042_IMG052 does not have corners\n",
      "Image G042_IMG053 does not have corners\n",
      "Image G042_IMG054 does not have corners\n",
      "Image G042_IMG055 does not have corners\n",
      "Image G042_IMG056 does not have corners\n",
      "Image G042_IMG057 does not have corners\n",
      "Image G042_IMG058 has corners\n",
      "Image G042_IMG059 does not have corners\n",
      "Image G042_IMG060 does not have corners\n",
      "Image G042_IMG061 does not have corners\n",
      "Image G042_IMG062 does not have corners\n",
      "Image G042_IMG063 does not have corners\n",
      "Image G042_IMG064 does not have corners\n",
      "Image G042_IMG065 does not have corners\n",
      "Image G042_IMG066 does not have corners\n",
      "Image G042_IMG067 does not have corners\n",
      "Image G042_IMG068 does not have corners\n",
      "Image G042_IMG069 does not have corners\n",
      "Image G042_IMG070 does not have corners\n",
      "Image G042_IMG071 does not have corners\n",
      "Image G042_IMG072 does not have corners\n",
      "Image G042_IMG073 does not have corners\n",
      "Image G042_IMG074 has corners\n",
      "Image G042_IMG075 does not have corners\n",
      "Image G042_IMG076 does not have corners\n",
      "Image G042_IMG077 does not have corners\n",
      "Image G042_IMG078 does not have corners\n",
      "Image G042_IMG079 does not have corners\n",
      "Image G042_IMG080 does not have corners\n",
      "Image G042_IMG081 has corners\n",
      "Image G042_IMG082 does not have corners\n",
      "Image G042_IMG083 does not have corners\n",
      "Image G042_IMG084 does not have corners\n",
      "Image G042_IMG085 does not have corners\n",
      "Image G042_IMG086 has corners\n",
      "Image G042_IMG087 does not have corners\n",
      "Image G042_IMG088 does not have corners\n",
      "Image G042_IMG089 does not have corners\n",
      "Image G042_IMG090 does not have corners\n",
      "Image G042_IMG091 does not have corners\n",
      "Image G042_IMG092 does not have corners\n",
      "Image G042_IMG093 does not have corners\n",
      "Image G042_IMG094 does not have corners\n",
      "Number of images without corners: 83\n"
     ]
    }
   ],
   "source": [
    "import glob\n",
    "\n",
    "image_paths = []\n",
    "pattern = os.path.join(dataDir, '*.jpg')\n",
    "image_paths.extend(glob.glob(pattern))\n",
    "\n",
    "imgs, gray_imgs, img_names = read_images(image_paths)\n",
    "\n",
    "ret, corners = detect_chessboard_corners(imgs, img_names, 640, 480)"
   ]
  },
  {
   "cell_type": "code",
   "execution_count": 3,
   "metadata": {},
   "outputs": [],
   "source": [
    "import glob\n",
    "\n",
    "image_paths = []\n",
    "pattern = os.path.join(dataDir, '*.jpg')\n",
    "image_paths.extend(glob.glob(pattern))\n",
    "\n",
    "imgs, gray_imgs, img_names = read_images(image_paths)\n",
    "\n",
    "show_imags(imgs, img_names)\n"
   ]
  }
 ],
 "metadata": {
  "kernelspec": {
   "display_name": "OpenCV",
   "language": "python",
   "name": "python3"
  },
  "language_info": {
   "codemirror_mode": {
    "name": "ipython",
    "version": 3
   },
   "file_extension": ".py",
   "mimetype": "text/x-python",
   "name": "python",
   "nbconvert_exporter": "python",
   "pygments_lexer": "ipython3",
   "version": "3.12.9"
  }
 },
 "nbformat": 4,
 "nbformat_minor": 2
}
