{
 "cells": [
  {
   "cell_type": "markdown",
   "metadata": {},
   "source": [
    "# COMPUTER VISION\n",
    "## Project: Detect the chess board\n",
    "\n",
    "group 14\n",
    "- Pedro Azevedo, up 201905955\n",
    "- Santiago Pineda up 202403071\n",
    "- \n",
    "- Michal kowalski up 202401554"
   ]
  },
  {
   "cell_type": "markdown",
   "metadata": {},
   "source": [
    "### Install requirements"
   ]
  },
  {
   "cell_type": "code",
   "execution_count": null,
   "metadata": {},
   "outputs": [],
   "source": [
    "! pip install -r requirements.txt"
   ]
  },
  {
   "cell_type": "markdown",
   "metadata": {},
   "source": [
    "## prepare the image"
   ]
  },
  {
   "cell_type": "code",
   "execution_count": null,
   "metadata": {},
   "outputs": [],
   "source": [
    "import cv2\n",
    "import numpy as np\n",
    "import os\n",
    "from src import *\n",
    "\n",
    "\n",
    "# Path to directory with images\n",
    "dataDir = './images'"
   ]
  },
  {
   "cell_type": "code",
   "execution_count": null,
   "metadata": {},
   "outputs": [],
   "source": [
    "# Open testing image\n",
    "img_path = [os.path.join(dataDir, 'G061_IMG080.jpg')]\n",
    "# Read image\n",
    "imgs, gray_imgs = read_images(img_path)\n",
    "# Show image\n",
    "show_imags(imgs)\n",
    "show_imags(gray_imgs)"
   ]
  },
  {
   "cell_type": "code",
   "execution_count": null,
   "metadata": {},
   "outputs": [],
   "source": [
    "# termination criteria\n",
    "criteria = (cv2.TERM_CRITERIA_EPS + cv2.TERM_CRITERIA_MAX_ITER, 30, 0.001)\n",
    "\n",
    "# prepare object points, like (0,0,0), (1,0,0), (2,0,0) ....,(6,5,0)\n",
    "objp = np.zeros((7*6,3), np.float32)\n",
    "objp[:,:2] = np.mgrid[0:7,0:6].T.reshape(-1,2)\n",
    "\n",
    "# Arrays to store object points and image points from all the images.\n",
    "objpoints = [] # 3d point in real world space\n",
    "imgpoints = [] # 2d points in image plane."
   ]
  },
  {
   "cell_type": "code",
   "execution_count": null,
   "metadata": {},
   "outputs": [],
   "source": [
    "cv2.imshow('img',gray_imgs[0])\n",
    "cv2.waitKey(0)\n",
    "cv2.destroyAllWindows()"
   ]
  },
  {
   "cell_type": "code",
   "execution_count": null,
   "metadata": {},
   "outputs": [],
   "source": [
    "gray_img = gray_imgs[0]\n",
    "\n",
    "ret, corners = cv2.findChessboardCornersSB(gray_img, (7,7), None)\n",
    "print(corners.shape)"
   ]
  },
  {
   "cell_type": "code",
   "execution_count": null,
   "metadata": {},
   "outputs": [],
   "source": [
    "gray_img = gray_imgs[0]\n",
    "cv2.resize(gray_img, (640, 480))\n",
    "print(len(gray_img), gray_img[0].shape)\n",
    "\n",
    "ret, corners = cv2.findChessboardCornersSB(gray_img, (7,6))\n",
    "\n",
    "if True:\n",
    "   objpoints.append(objp)\n",
    "   \n",
    "   #corners2 = cv2.cornerSubPix(gray_img, corners, (11,11), (-1,-1), criteria)\n",
    "   #imgpoints.append(corners2)\n",
    "   \n",
    "   # Draw and display the corners\n",
    "   fnl = cv2.drawChessboardCorners(gray_img, (7,6), corners, ret)\n",
    "   cv2.resize(fnl, (640, 480))\n",
    "   cv2.imshow(\"board\",fnl)\n",
    "   cv2.waitKey(0)\n",
    "\n",
    "cv2.destroyAllWindows()"
   ]
  },
  {
   "cell_type": "code",
   "execution_count": null,
   "metadata": {},
   "outputs": [],
   "source": []
  }
 ],
 "metadata": {
  "kernelspec": {
   "display_name": "NLP",
   "language": "python",
   "name": "python3"
  },
  "language_info": {
   "codemirror_mode": {
    "name": "ipython",
    "version": 3
   },
   "file_extension": ".py",
   "mimetype": "text/x-python",
   "name": "python",
   "nbconvert_exporter": "python",
   "pygments_lexer": "ipython3",
   "version": "3.12.9"
  }
 },
 "nbformat": 4,
 "nbformat_minor": 2
}
