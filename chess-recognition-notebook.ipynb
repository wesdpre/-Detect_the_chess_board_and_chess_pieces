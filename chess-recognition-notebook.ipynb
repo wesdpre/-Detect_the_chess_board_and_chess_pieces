{
 "cells": [
  {
   "cell_type": "code",
   "execution_count": null,
   "metadata": {
    "ExecuteTime": {
     "end_time": "2025-04-10T15:48:06.011150Z",
     "start_time": "2025-04-10T15:48:03.654245Z"
    },
    "collapsed": true,
    "jupyter": {
     "outputs_hidden": true
    }
   },
   "outputs": [],
   "source": [
    "from src.our_chessboard_detection import (read_image, apply_filters, get_contours, \n",
    "                                      rotate_and_crop, align_board,chesboard_grids, \n",
    "                                      process_chessboard, display_chessboard_squares,\n",
    "                                      offset_piece_coords, reverse_piece_coordinates)"
   ]
  },
  {
   "cell_type": "code",
   "execution_count": null,
   "metadata": {
    "ExecuteTime": {
     "end_time": "2025-04-10T15:48:09.521821Z",
     "start_time": "2025-04-10T15:48:07.671183Z"
    },
    "collapsed": true,
    "jupyter": {
     "outputs_hidden": true
    }
   },
   "outputs": [],
   "source": [
    "# Open image\n",
    "image = read_image('images/G000_IMG087.jpg', True)"
   ]
  },
  {
   "cell_type": "markdown",
   "metadata": {},
   "source": [
    "### applying different filters"
   ]
  },
  {
   "cell_type": "code",
   "execution_count": null,
   "metadata": {
    "ExecuteTime": {
     "end_time": "2025-04-10T15:48:21.374175Z",
     "start_time": "2025-04-10T15:48:18.152790Z"
    },
    "collapsed": true,
    "jupyter": {
     "outputs_hidden": true
    }
   },
   "outputs": [],
   "source": [
    "filtered_images = apply_filters(image, True)"
   ]
  },
  {
   "cell_type": "markdown",
   "metadata": {},
   "source": [
    "### Detecting chessboard"
   ]
  },
  {
   "cell_type": "code",
   "execution_count": null,
   "metadata": {
    "ExecuteTime": {
     "end_time": "2025-04-10T15:48:29.498559Z",
     "start_time": "2025-04-10T15:48:26.832139Z"
    }
   },
   "outputs": [],
   "source": [
    "chess_contour = get_contours(filtered_images, show=True,  kernel_size=(25,25) ,  kernel_usage=True, iterations=4)"
   ]
  },
  {
   "cell_type": "markdown",
   "metadata": {},
   "source": [
    "### rotate and warp"
   ]
  },
  {
   "cell_type": "code",
   "execution_count": null,
   "metadata": {
    "ExecuteTime": {
     "end_time": "2025-04-10T15:48:36.129640Z",
     "start_time": "2025-04-10T15:48:34.255839Z"
    },
    "collapsed": true,
    "jupyter": {
     "outputs_hidden": true
    }
   },
   "outputs": [],
   "source": [
    "warped_image, M = rotate_and_crop(filtered_images, chess_contour[0][1], show=True)"
   ]
  },
  {
   "cell_type": "code",
   "execution_count": null,
   "metadata": {},
   "outputs": [],
   "source": [
    "\n",
    "# Find the best rotation angle\n",
    "rotated_image, best_angle = align_board(warped_image, radius=12, angle_step=90, show=True)\n"
   ]
  },
  {
   "cell_type": "code",
   "execution_count": null,
   "metadata": {},
   "outputs": [],
   "source": [
    "print(best_angle)"
   ]
  },
  {
   "cell_type": "code",
   "execution_count": null,
   "metadata": {
    "ExecuteTime": {
     "end_time": "2025-04-10T15:48:42.339121Z",
     "start_time": "2025-04-10T15:48:42.065137Z"
    },
    "collapsed": true,
    "jupyter": {
     "outputs_hidden": true
    }
   },
   "outputs": [],
   "source": [
    "grid_image = chesboard_grids(rotated_image, show = True)"
   ]
  },
  {
   "cell_type": "code",
   "execution_count": null,
   "metadata": {},
   "outputs": [],
   "source": [
    "squares = display_chessboard_squares(rotated_image, show = True)"
   ]
  },
  {
   "cell_type": "code",
   "execution_count": null,
   "metadata": {},
   "outputs": [],
   "source": [
    "board_matrix, piece_coords, total_pieces = process_chessboard(squares)"
   ]
  },
  {
   "cell_type": "code",
   "execution_count": null,
   "metadata": {},
   "outputs": [],
   "source": [
    "piece_coords"
   ]
  },
  {
   "cell_type": "code",
   "execution_count": null,
   "metadata": {},
   "outputs": [],
   "source": [
    "\n",
    "piece_coords_global = offset_piece_coords(piece_coords, board_matrix,)\n",
    "\n",
    "\n",
    "\n",
    "# Reverse transforms\n",
    "original_coords = reverse_piece_coordinates(\n",
    "    piece_coords_global,\n",
    "    rotation_angle=best_angle,  # from align_board\n",
    "    perspective_matrix=M,       # from rotate_and_crop\n",
    "    rotated_image_shape=rotated_image.shape\n",
    ")\n",
    "\n",
    "\n",
    "\n",
    "print(original_coords)"
   ]
  },
  {
   "cell_type": "code",
   "execution_count": null,
   "metadata": {},
   "outputs": [],
   "source": [
    "import cv2\n",
    "import json\n",
    "\n",
    "image_path = 'images/G000_IMG087.jpg'\n",
    "image = cv2.imread(image_path)\n",
    "\n",
    "# List of detected pieces (you can also load from JSON if needed)\n",
    "detected_pieces = original_coords\n",
    "\n",
    "# Draw bounding boxes\n",
    "for piece in detected_pieces:\n",
    "    top_left = (piece[\"xmin\"], piece[\"ymin\"])\n",
    "    bottom_right = (piece[\"xmax\"], piece[\"ymax\"])\n",
    "    cv2.rectangle(image, top_left, bottom_right, color=(0, 255, 0), thickness=3)\n",
    "\n",
    "cv2.imshow(\"Detected Pieces\", image)\n",
    "cv2.waitKey(0)\n",
    "cv2.destroyAllWindows()"
   ]
  }
 ],
 "metadata": {
  "kernelspec": {
   "display_name": "cv-venv",
   "language": "python",
   "name": "python3"
  },
  "language_info": {
   "codemirror_mode": {
    "name": "ipython",
    "version": 3
   },
   "file_extension": ".py",
   "mimetype": "text/x-python",
   "name": "python",
   "nbconvert_exporter": "python",
   "pygments_lexer": "ipython3",
   "version": "3.13.2"
  }
 },
 "nbformat": 4,
 "nbformat_minor": 4
}
