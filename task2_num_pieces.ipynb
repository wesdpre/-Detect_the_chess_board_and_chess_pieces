{
 "cells": [
  {
   "cell_type": "markdown",
   "metadata": {
    "id": "oaU9_sOGzRD1"
   },
   "source": [
    "# Task 2 Multiclass classification Baseline\n",
    "\n",
    "In this class, we will develop a baseline for Task 2 using the chess dataset. We will model the task as an multiclass classification task."
   ]
  },
  {
   "cell_type": "code",
   "execution_count": 1,
   "metadata": {
    "id": "dvfTDUXuzRD9"
   },
   "outputs": [
    {
     "name": "stderr",
     "output_type": "stream",
     "text": [
      "/opt/anaconda3/envs/tfenv/lib/python3.8/site-packages/tqdm/auto.py:21: TqdmWarning: IProgress not found. Please update jupyter and ipywidgets. See https://ipywidgets.readthedocs.io/en/stable/user_install.html\n",
      "  from .autonotebook import tqdm as notebook_tqdm\n"
     ]
    }
   ],
   "source": [
    "import matplotlib.pyplot as plt, numpy as np, os, torch, random, cv2, json\n",
    "from torch import nn\n",
    "from torch.utils.data import DataLoader, Dataset\n",
    "import torch.nn.functional as F\n",
    "from torchvision import models\n",
    "from torchvision.transforms import v2 as transforms\n",
    "from sklearn.metrics import accuracy_score\n",
    "from tqdm import tqdm\n",
    "\n",
    "random.seed(42)"
   ]
  },
  {
   "cell_type": "markdown",
   "metadata": {
    "id": "NCiAkFspd8US"
   },
   "source": [
    "### Connect Colab to Drive (if the dataset is on drive)"
   ]
  },
  {
   "cell_type": "code",
   "execution_count": null,
   "metadata": {
    "colab": {
     "base_uri": "https://localhost:8080/"
    },
    "id": "eQJFEi19d8US",
    "outputId": "fb634000-93ac-4f8a-bd46-3e593225d88d"
   },
   "outputs": [],
   "source": [
    "from google.colab import drive\n",
    "drive.mount('/content/drive')"
   ]
  },
  {
   "cell_type": "code",
   "execution_count": null,
   "metadata": {
    "id": "UXLs-GOgGB5a"
   },
   "outputs": [],
   "source": [
    "!unzip \"drive/MyDrive/Dataset/images.zip\" -d \".\"\n",
    "!cp \"drive/MyDrive/Dataset/annotations.json\" -d \".\""
   ]
  },
  {
   "cell_type": "markdown",
   "metadata": {
    "id": "BDBhCwhszREA"
   },
   "source": [
    "## Load dataset\n",
    "\n",
    "**Tip**: since the images are very big, resize the dataset before loading it to save time and memory during training (use cubic interpolation to preserve image quality when downsizing the images)!"
   ]
  },
  {
   "cell_type": "code",
   "execution_count": 2,
   "metadata": {
    "id": "w5IQVCmOzREB"
   },
   "outputs": [],
   "source": [
    "from torchvision.transforms import InterpolationMode\n",
    "# Normalize images\n",
    "data_aug = transforms.Compose([\n",
    "    transforms.ToImage(),\n",
    "    transforms.Resize((256, 256), interpolation=InterpolationMode.BICUBIC),\n",
    "    transforms.CenterCrop((224, 224)),\n",
    "    transforms.ToDtype(torch.float32, scale=True),\n",
    "    transforms.Normalize([0.485, 0.456, 0.406], [0.229, 0.224, 0.225])\n",
    "])\n",
    "\n",
    "data_in = transforms.Compose([\n",
    "    transforms.ToImage(),\n",
    "    transforms.Resize((256, 256), interpolation=InterpolationMode.BICUBIC),\n",
    "    transforms.CenterCrop((224, 224)),\n",
    "    transforms.ToDtype(torch.float32, scale=True),\n",
    "    transforms.Normalize([0.485, 0.456, 0.406], [0.229, 0.224, 0.225])\n",
    "])"
   ]
  },
  {
   "cell_type": "code",
   "execution_count": 15,
   "metadata": {},
   "outputs": [
    {
     "name": "stdout",
     "output_type": "stream",
     "text": [
      "Number of train images: 1442\n",
      "Number of valid images: 330\n",
      "Number of test images: 306\n"
     ]
    }
   ],
   "source": [
    "def chesspos2number(chesspos):\n",
    "    col = ord(chesspos[0])-ord('a')\n",
    "    row = int(chesspos[1])-1\n",
    "    return row, col\n",
    "\n",
    "class ChessDataset(Dataset):\n",
    "    def __init__(self, root_dir, partition, transform=None):\n",
    "        self.anns = json.load(open(os.path.join(root_dir, 'annotations.json')))\n",
    "        self.categories = [c['name'] for c in self.anns['categories']]\n",
    "        self.root = root_dir\n",
    "        self.ids = []\n",
    "        self.file_names = []\n",
    "        for x in self.anns['images']:\n",
    "            self.file_names.append(x['path'])\n",
    "            self.ids.append(x['id'])\n",
    "        self.file_names = np.asarray(self.file_names)\n",
    "        self.ids = np.asarray(self.ids)\n",
    "        self.boards = torch.zeros((len(self.file_names), 8, 8))\n",
    "        for piece in self.anns['annotations']['pieces']:\n",
    "            idx = np.where(self.ids == piece['image_id'])[0][0]\n",
    "            row, col = chesspos2number(piece['chessboard_position'])\n",
    "            self.boards[idx][row][col] = 1\n",
    "\n",
    "        if partition == 'train':\n",
    "            self.split_ids = np.asarray(self.anns['splits']['chessred2k']['train']['image_ids']).astype(int)\n",
    "        elif partition == 'valid':\n",
    "            self.split_ids = np.asarray(self.anns['splits']['chessred2k']['val']['image_ids']).astype(int)\n",
    "        else:\n",
    "            self.split_ids = np.asarray(self.anns['splits']['chessred2k']['test']['image_ids']).astype(int)\n",
    "\n",
    "        intersect = np.isin(self.ids, self.split_ids)\n",
    "        self.split_ids = np.where(intersect)[0]\n",
    "        self.file_names = self.file_names[self.split_ids]\n",
    "        self.boards = self.boards[self.split_ids]\n",
    "        self.num_pieces = torch.sum(self.boards.view(len(self.boards), 64), axis=-1)\n",
    "        self.ids = self.ids[self.split_ids]\n",
    "\n",
    "        self.transform = transform\n",
    "        print(f\"Number of {partition} images: {len(self.file_names)}\")\n",
    "\n",
    "    def __len__(self):\n",
    "        return len(self.file_names)\n",
    "\n",
    "    def __getitem__(self, i):\n",
    "        image = cv2.imread(os.path.join(self.root, self.file_names[i]))\n",
    "        image = cv2.cvtColor(image, cv2.COLOR_BGR2RGB)\n",
    "\n",
    "        if self.transform:\n",
    "            image = self.transform(image)\n",
    "\n",
    "        num_pieces = self.num_pieces[i].item()\n",
    "\n",
    "        return image, num_pieces\n",
    "\n",
    "train_dataset = ChessDataset('', 'train', data_aug)\n",
    "valid_dataset = ChessDataset('', 'valid', data_in)\n",
    "test_dataset = ChessDataset('', 'test', data_in)"
   ]
  },
  {
   "cell_type": "code",
   "execution_count": 20,
   "metadata": {
    "colab": {
     "base_uri": "https://localhost:8080/"
    },
    "id": "MAYHXPnzd8UT",
    "outputId": "199a5237-a064-457b-da4f-a7184019595f"
   },
   "outputs": [
    {
     "name": "stdout",
     "output_type": "stream",
     "text": [
      "Using cpu device\n"
     ]
    }
   ],
   "source": [
    "# get cpu or gpu device for training\n",
    "device = \"cuda\" if torch.cuda.is_available() else \"cpu\"\n",
    "print(f\"Using {device} device\")\n",
    "\n",
    "# now we need to define a Dataloader, which allows us to automatically batch our inputs, do sampling and multiprocess data loading\n",
    "batch_size = 16\n",
    "\n",
    "train_dataloader = DataLoader(train_dataset, batch_size=batch_size, shuffle=True, drop_last=True)\n",
    "valid_dataloader = DataLoader(valid_dataset, batch_size=batch_size, shuffle=False, drop_last=False)\n",
    "test_dataloader = DataLoader(test_dataset, batch_size=batch_size, shuffle=False, drop_last=False)"
   ]
  },
  {
   "cell_type": "code",
   "execution_count": 26,
   "metadata": {
    "colab": {
     "base_uri": "https://localhost:8080/",
     "height": 458
    },
    "id": "d7QP3jhCIKzh",
    "outputId": "5013df07-dc17-41ee-cefb-7123dc400687"
   },
   "outputs": [
    {
     "name": "stdout",
     "output_type": "stream",
     "text": [
      "torch.Size([16, 224, 224, 3])\n",
      "torch.Size([16])\n",
      "tensor(22., dtype=torch.float64)\n"
     ]
    },
    {
     "data": {
      "image/png": "[encoded data removed]",
      "text/plain": [
       "<Figure size 640x480 with 1 Axes>"
      ]
     },
     "metadata": {},
     "output_type": "display_data"
    }
   ],
   "source": [
    "for batch in train_dataloader:\n",
    "    # Get images of the batch and print their dimensions\n",
    "    imgs = batch[0]\n",
    "    imgs = imgs.permute(0, 2, 3, 1)*torch.tensor([[[0.229, 0.224, 0.225]]]) + torch.tensor([[[0.485, 0.456, 0.406]]])\n",
    "    print(imgs.shape)\n",
    "\n",
    "    # Get labels of each image in the batch and print them\n",
    "    labels = batch[1]\n",
    "    print(labels.shape)\n",
    "    print(labels[0])\n",
    "\n",
    "    # Show first image of the batch\n",
    "    plt.imshow(imgs[0])\n",
    "    plt.axis('off')\n",
    "    plt.show()\n",
    "\n",
    "    break"
   ]
  },
  {
   "cell_type": "markdown",
   "metadata": {
    "id": "0aqWR_0VzRED"
   },
   "source": [
    "## Defining the model\n",
    "\n",
    "We will use a pre-trained ResNet50 network."
   ]
  },
  {
   "cell_type": "code",
   "execution_count": 78,
   "metadata": {
    "colab": {
     "base_uri": "https://localhost:8080/"
    },
    "id": "DfK3c9RSzRED",
    "outputId": "9cd92465-f107-4511-80a2-34f07fd16a33"
   },
   "outputs": [
    {
     "name": "stdout",
     "output_type": "stream",
     "text": [
      "Using cpu device\n"
     ]
    },
    {
     "data": {
      "text/plain": [
       "ResNet(\n",
       "  (conv1): Conv2d(3, 64, kernel_size=(7, 7), stride=(2, 2), padding=(3, 3), bias=False)\n",
       "  (bn1): BatchNorm2d(64, eps=1e-05, momentum=0.1, affine=True, track_running_stats=True)\n",
       "  (relu): ReLU(inplace=True)\n",
       "  (maxpool): MaxPool2d(kernel_size=3, stride=2, padding=1, dilation=1, ceil_mode=False)\n",
       "  (layer1): Sequential(\n",
       "    (0): BasicBlock(\n",
       "      (conv1): Conv2d(64, 64, kernel_size=(3, 3), stride=(1, 1), padding=(1, 1), bias=False)\n",
       "      (bn1): BatchNorm2d(64, eps=1e-05, momentum=0.1, affine=True, track_running_stats=True)\n",
       "      (relu): ReLU(inplace=True)\n",
       "      (conv2): Conv2d(64, 64, kernel_size=(3, 3), stride=(1, 1), padding=(1, 1), bias=False)\n",
       "      (bn2): BatchNorm2d(64, eps=1e-05, momentum=0.1, affine=True, track_running_stats=True)\n",
       "    )\n",
       "    (1): BasicBlock(\n",
       "      (conv1): Conv2d(64, 64, kernel_size=(3, 3), stride=(1, 1), padding=(1, 1), bias=False)\n",
       "      (bn1): BatchNorm2d(64, eps=1e-05, momentum=0.1, affine=True, track_running_stats=True)\n",
       "      (relu): ReLU(inplace=True)\n",
       "      (conv2): Conv2d(64, 64, kernel_size=(3, 3), stride=(1, 1), padding=(1, 1), bias=False)\n",
       "      (bn2): BatchNorm2d(64, eps=1e-05, momentum=0.1, affine=True, track_running_stats=True)\n",
       "    )\n",
       "  )\n",
       "  (layer2): Sequential(\n",
       "    (0): BasicBlock(\n",
       "      (conv1): Conv2d(64, 128, kernel_size=(3, 3), stride=(2, 2), padding=(1, 1), bias=False)\n",
       "      (bn1): BatchNorm2d(128, eps=1e-05, momentum=0.1, affine=True, track_running_stats=True)\n",
       "      (relu): ReLU(inplace=True)\n",
       "      (conv2): Conv2d(128, 128, kernel_size=(3, 3), stride=(1, 1), padding=(1, 1), bias=False)\n",
       "      (bn2): BatchNorm2d(128, eps=1e-05, momentum=0.1, affine=True, track_running_stats=True)\n",
       "      (downsample): Sequential(\n",
       "        (0): Conv2d(64, 128, kernel_size=(1, 1), stride=(2, 2), bias=False)\n",
       "        (1): BatchNorm2d(128, eps=1e-05, momentum=0.1, affine=True, track_running_stats=True)\n",
       "      )\n",
       "    )\n",
       "    (1): BasicBlock(\n",
       "      (conv1): Conv2d(128, 128, kernel_size=(3, 3), stride=(1, 1), padding=(1, 1), bias=False)\n",
       "      (bn1): BatchNorm2d(128, eps=1e-05, momentum=0.1, affine=True, track_running_stats=True)\n",
       "      (relu): ReLU(inplace=True)\n",
       "      (conv2): Conv2d(128, 128, kernel_size=(3, 3), stride=(1, 1), padding=(1, 1), bias=False)\n",
       "      (bn2): BatchNorm2d(128, eps=1e-05, momentum=0.1, affine=True, track_running_stats=True)\n",
       "    )\n",
       "  )\n",
       "  (layer3): Sequential(\n",
       "    (0): BasicBlock(\n",
       "      (conv1): Conv2d(128, 256, kernel_size=(3, 3), stride=(2, 2), padding=(1, 1), bias=False)\n",
       "      (bn1): BatchNorm2d(256, eps=1e-05, momentum=0.1, affine=True, track_running_stats=True)\n",
       "      (relu): ReLU(inplace=True)\n",
       "      (conv2): Conv2d(256, 256, kernel_size=(3, 3), stride=(1, 1), padding=(1, 1), bias=False)\n",
       "      (bn2): BatchNorm2d(256, eps=1e-05, momentum=0.1, affine=True, track_running_stats=True)\n",
       "      (downsample): Sequential(\n",
       "        (0): Conv2d(128, 256, kernel_size=(1, 1), stride=(2, 2), bias=False)\n",
       "        (1): BatchNorm2d(256, eps=1e-05, momentum=0.1, affine=True, track_running_stats=True)\n",
       "      )\n",
       "    )\n",
       "    (1): BasicBlock(\n",
       "      (conv1): Conv2d(256, 256, kernel_size=(3, 3), stride=(1, 1), padding=(1, 1), bias=False)\n",
       "      (bn1): BatchNorm2d(256, eps=1e-05, momentum=0.1, affine=True, track_running_stats=True)\n",
       "      (relu): ReLU(inplace=True)\n",
       "      (conv2): Conv2d(256, 256, kernel_size=(3, 3), stride=(1, 1), padding=(1, 1), bias=False)\n",
       "      (bn2): BatchNorm2d(256, eps=1e-05, momentum=0.1, affine=True, track_running_stats=True)\n",
       "    )\n",
       "  )\n",
       "  (layer4): Sequential(\n",
       "    (0): BasicBlock(\n",
       "      (conv1): Conv2d(256, 512, kernel_size=(3, 3), stride=(2, 2), padding=(1, 1), bias=False)\n",
       "      (bn1): BatchNorm2d(512, eps=1e-05, momentum=0.1, affine=True, track_running_stats=True)\n",
       "      (relu): ReLU(inplace=True)\n",
       "      (conv2): Conv2d(512, 512, kernel_size=(3, 3), stride=(1, 1), padding=(1, 1), bias=False)\n",
       "      (bn2): BatchNorm2d(512, eps=1e-05, momentum=0.1, affine=True, track_running_stats=True)\n",
       "      (downsample): Sequential(\n",
       "        (0): Conv2d(256, 512, kernel_size=(1, 1), stride=(2, 2), bias=False)\n",
       "        (1): BatchNorm2d(512, eps=1e-05, momentum=0.1, affine=True, track_running_stats=True)\n",
       "      )\n",
       "    )\n",
       "    (1): BasicBlock(\n",
       "      (conv1): Conv2d(512, 512, kernel_size=(3, 3), stride=(1, 1), padding=(1, 1), bias=False)\n",
       "      (bn1): BatchNorm2d(512, eps=1e-05, momentum=0.1, affine=True, track_running_stats=True)\n",
       "      (relu): ReLU(inplace=True)\n",
       "      (conv2): Conv2d(512, 512, kernel_size=(3, 3), stride=(1, 1), padding=(1, 1), bias=False)\n",
       "      (bn2): BatchNorm2d(512, eps=1e-05, momentum=0.1, affine=True, track_running_stats=True)\n",
       "    )\n",
       "  )\n",
       "  (avgpool): AdaptiveAvgPool2d(output_size=(1, 1))\n",
       "  (fc): Linear(in_features=512, out_features=32, bias=True)\n",
       ")"
      ]
     },
     "execution_count": 78,
     "metadata": {},
     "output_type": "execute_result"
    }
   ],
   "source": [
    "# Get cpu or gpu device for training.\n",
    "device = \"cuda\" if torch.cuda.is_available() else \"cpu\"\n",
    "print(f\"Using {device} device\")\n",
    "\n",
    "# Define model\n",
    "model1 = models.resnet18(weights=models.ResNet18_Weights.DEFAULT)\n",
    "\n",
    "# change the number of neurons in the last layer to the number of classes of the problem at hand (maximum number of pieces on a chess game)\n",
    "num_classes = 32\n",
    "model1.fc = nn.Linear(model1.fc.in_features, 32)\n",
    "\n",
    "model1.to(device)"
   ]
  },
  {
   "cell_type": "markdown",
   "metadata": {
    "id": "g1kRGiw_zREE"
   },
   "source": [
    "## Train the model"
   ]
  },
  {
   "cell_type": "markdown",
   "metadata": {
    "id": "mDxDXlXud8UU"
   },
   "source": [
    "Define function to perform one iteration"
   ]
  },
  {
   "cell_type": "code",
   "execution_count": 82,
   "metadata": {
    "id": "VxSdayviCWk5"
   },
   "outputs": [],
   "source": [
    "from tqdm import tqdm\n",
    "def train_classifier(model, train_dataloader, val_dataloader, loss_fn, optimizer, device, num_epochs=50, lr_scheduler=None):\n",
    "    \n",
    "    model = model.to(device)\n",
    "    \n",
    "    # Evaluation history\n",
    "    train_history = {\n",
    "        'loss': [],\n",
    "        'acc': [],\n",
    "    }\n",
    "    val_history = {\n",
    "        'loss': [],\n",
    "        'acc': [],\n",
    "    }\n",
    "    for epoch in range(num_epochs):\n",
    "        # Training \n",
    "        model.train()\n",
    "        epoch_train_loss = 0.0\n",
    "        correct = 0\n",
    "        total = 0\n",
    "        \n",
    "        for inputs, labels in tqdm(train_dataloader, desc=f\"Epoch {epoch+1}/{num_epochs} [Training]\"):\n",
    "\n",
    "            inputs = inputs.to(device)\n",
    "            labels = labels.to(device)\n",
    "            \n",
    "            optimizer.zero_grad()\n",
    "            outputs = model(inputs)\n",
    "            loss = loss_fn(outputs, labels.argmax(dim=1))\n",
    "            loss.backward()\n",
    "            optimizer.step()\n",
    "            \n",
    "            epoch_train_loss += loss.item()\n",
    "            _, predicted = outputs.max(1)\n",
    "            _, labels_idx = labels.max(1)\n",
    "            total += labels.size(0)\n",
    "            correct += predicted.eq(labels_idx).sum().item()\n",
    "        \n",
    "        train_loss = epoch_train_loss / len(train_dataloader)\n",
    "        train_acc = 100. * correct / total\n",
    "        train_history['loss'].append(train_loss)\n",
    "        train_history['acc'].append(train_acc)\n",
    "        \n",
    "        # Validation \n",
    "        val_loss, val_acc = evaluate_classifier(model, val_dataloader, loss_fn, device)\n",
    "        val_history['loss'].append(val_loss)\n",
    "        val_history['acc'].append(val_acc)\n",
    "        \n",
    "        # # Update learning rate if scheduler provided\n",
    "        # if lr_scheduler:\n",
    "        #     if isinstance(lr_scheduler, torch.optim.lr_scheduler.ReduceLROnPlateau):\n",
    "        #         lr_scheduler.step(val_loss)\n",
    "        #     else:\n",
    "        #         lr_scheduler.step()\n",
    "        \n",
    "        print(f'Train Loss: {train_loss:.4f} || Train Acc: {train_acc:.2f}')\n",
    "        print(f'Val Loss: {val_loss:.4f} || Val Acc: {val_acc:.2f}')\n",
    "    \n",
    "    return train_history, val_history\n",
    "\n",
    "def evaluate_classifier(model, dataloader, loss_fn, device):\n",
    "    model.eval()\n",
    "    running_loss = 0.0\n",
    "    correct = 0\n",
    "    total = 0\n",
    "    \n",
    "    with torch.no_grad():\n",
    "        for inputs, labels in dataloader:\n",
    "\n",
    "            inputs = inputs.to(device)\n",
    "            labels = labels.to(device)\n",
    "            \n",
    "            outputs = model(inputs)\n",
    "            loss = loss_fn(outputs, labels.argmax(dim=1))\n",
    "            \n",
    "            running_loss += loss.item()\n",
    "            _, predicted = outputs.max(1)\n",
    "            _, labels_idx = labels.max(1)\n",
    "            total += labels.size(0)\n",
    "            correct += predicted.eq(labels_idx).sum().item()\n",
    "    \n",
    "    loss = running_loss / len(dataloader)\n",
    "    acc = 100. * correct / total\n",
    "    return loss, acc"
   ]
  },
  {
   "cell_type": "markdown",
   "metadata": {
    "id": "73djngkzNkjD"
   },
   "source": [
    "Define loss, optimizer and train the model"
   ]
  },
  {
   "cell_type": "code",
   "execution_count": 80,
   "metadata": {
    "colab": {
     "base_uri": "https://localhost:8080/"
    },
    "id": "DmsUVGS6C0O1",
    "outputId": "19608392-0ab8-4a45-acee-e65a29b97bb4"
   },
   "outputs": [],
   "source": [
    "import torch.optim as optim\n",
    "\n",
    "# Define loss function\n",
    "loss_fn = nn.CrossEntropyLoss()\n",
    "\n",
    "# Define optimizer\n",
    "optimizer_phase1 = optim.Adam(model1.fc.parameters(), lr=0.001)\n",
    "optimizer_phase2 = optim.Adam(model1.fc.parameters(), lr=0.0001)"
   ]
  },
  {
   "cell_type": "markdown",
   "metadata": {
    "id": "WrQMAKFHzREG"
   },
   "source": [
    "## Analyse training evolution"
   ]
  },
  {
   "cell_type": "code",
   "execution_count": null,
   "metadata": {},
   "outputs": [],
   "source": [
    "# 1 Phase: train with frozen layers\n",
    "for name, param in model1.named_parameters():\n",
    "    if not name.startswith('fc'):\n",
    "        param.requires_grad = False\n",
    "\n",
    "train_history_phase1, val_history_phase1 = train_classifier(\n",
    "    model1, train_dataloader, valid_dataloader, loss_fn, optimizer_phase1, device, num_epochs=10\n",
    ")"
   ]
  },
  {
   "cell_type": "code",
   "execution_count": null,
   "metadata": {},
   "outputs": [],
   "source": [
    "# 2nd Phase: train whole model (unfreeze)\n",
    "for param in model1.parameters():\n",
    "    param.requires_grad = True\n",
    "    \n",
    "train_history_phase2, val_history_phase2 = train_classifier(\n",
    "    model1, train_dataloader, valid_dataloader, loss_fn, optimizer_phase2, device, num_epochs=40\n",
    ")"
   ]
  },
  {
   "cell_type": "markdown",
   "metadata": {
    "id": "P7W0PEy1d8UV"
   },
   "source": [
    "Plot loss and accuracy throughout training on train and validation data"
   ]
  },
  {
   "cell_type": "code",
   "execution_count": null,
   "metadata": {},
   "outputs": [],
   "source": [
    "train_history = train_history_phase1.extend(train_history_phase2)\n",
    "val_history = val_history_phase1.extend(val_history_phase2)"
   ]
  },
  {
   "cell_type": "code",
   "execution_count": 93,
   "metadata": {
    "id": "xr48TEVlzREH"
   },
   "outputs": [],
   "source": [
    "def plotTrainingHistory(train_history, val_history):\n",
    "    plt.subplot(2, 1, 1)\n",
    "    plt.title('Cross Entropy Loss')\n",
    "    plt.plot(train_history['loss'], label='train')\n",
    "    plt.plot(val_history['loss'], label='val')\n",
    "    plt.legend(loc='best')\n",
    "\n",
    "    plt.subplot(2, 1, 2)\n",
    "    plt.title('Classification Accuracy')\n",
    "    plt.plot(train_history['accuracy'], label='train')\n",
    "    plt.plot(val_history['accuracy'], label='val')\n",
    "\n",
    "    plt.tight_layout()\n",
    "    plt.legend(loc='best')\n",
    "    plt.show()"
   ]
  },
  {
   "cell_type": "code",
   "execution_count": null,
   "metadata": {
    "colab": {
     "base_uri": "https://localhost:8080/",
     "height": 486
    },
    "id": "3GfeNPc4zREI",
    "outputId": "88e735b3-b4ef-4311-bff1-7e21d4062f5d"
   },
   "outputs": [],
   "source": [
    "plotTrainingHistory(train_history, val_history)"
   ]
  },
  {
   "cell_type": "markdown",
   "metadata": {
    "id": "HPZLw5cfzREI"
   },
   "source": [
    "## Test the model\n",
    "\n",
    "Evaluate the model in the test set"
   ]
  },
  {
   "cell_type": "code",
   "execution_count": 2,
   "metadata": {
    "colab": {
     "base_uri": "https://localhost:8080/"
    },
    "id": "UtmFHipizREK",
    "outputId": "ad2e59eb-264b-4802-f363-544ad73e1601"
   },
   "outputs": [],
   "source": [
    "# Load the best model\n",
    "\n",
    "# Evaluate model on test data\n",
    "from sklearn.metrics import confusion_matrix, f1_score, accuracy_score\n",
    "import matplotlib.pyplot as plt\n",
    "import seaborn as sns\n",
    "\n",
    "def test_classifier(model, test_dataloader, device):\n",
    "    model.eval()\n",
    "    model.to(device)\n",
    "    \n",
    "    all_preds = []\n",
    "    all_labels = []\n",
    "    \n",
    "    with torch.no_grad():\n",
    "        for inputs, labels in test_dataloader:\n",
    "            \n",
    "            inputs = inputs.to(device)\n",
    "            labels = labels.to(device)\n",
    "            \n",
    "            outputs = model(inputs)\n",
    "            _, predicted = outputs.max(1)\n",
    "            _, labels_idx = labels.max(1)\n",
    "            \n",
    "            all_preds.extend(predicted.cpu().numpy())\n",
    "            all_labels.extend(labels_idx.cpu().numpy())\n",
    "    \n",
    "    # Metrics\n",
    "    accuracy = accuracy_score(all_labels, all_preds)\n",
    "    f1 = f1_score(all_labels, all_preds, average='weighted')\n",
    "    cm = confusion_matrix(all_labels, all_preds)\n",
    "    \n",
    "    print(f\"Test Accuracy: {accuracy:.4f}\")\n",
    "    print(f\"Test F1 Score (weighted): {f1:.4f}\")\n",
    "    print(\"\\nConfusion Matrix:\")\n",
    "    print(cm)\n",
    "    \n",
    "    return {\n",
    "        'accuracy': accuracy,\n",
    "        'f1_score': f1,\n",
    "        'confusion_matrix': cm,\n",
    "        'predictions': all_preds,\n",
    "        'true_labels': all_labels\n",
    "    }\n",
    "test_results = test_classifier(model1, test_dataloader, device)"
   ]
  },
  {
   "cell_type": "code",
   "execution_count": null,
   "metadata": {},
   "outputs": [],
   "source": [
    "test_results = test_classifier(model1, test_dataloader, device)"
   ]
  },
  {
   "cell_type": "markdown",
   "metadata": {
    "id": "Oq-C6glKseuO"
   },
   "source": [
    "## Challenge\n",
    "\n",
    "In transfer learning, we often replace the head of the model (fully-connected layers responsible for classification) to fit the task. However, these new layers are not pre-trained and thus they contain an error that is backpropagated through the pre-trained part of the network during training. We can avoid this through a training strategy that is divided into two steps:\n",
    "* Freeze the pre-trained layers of the network so that their parameters are no longer updated during training and train only the head of the model\n",
    "* Unfreeze these layers and train the network as a whole.\n",
    "\n",
    "Implement this strategy and see the results!"
   ]
  },
  {
   "cell_type": "markdown",
   "metadata": {
    "id": "WumfC2EWIKzm"
   },
   "source": [
    "## For Group Project - Task 2: Adapt multiclass classification network to regression!\n",
    "\n",
    "Now that you have a multiclass baseline, adapt the network for the regression problem, considering the following aspects:\n",
    "* How many neurons should the last layer of a regression network have?\n",
    "* What should be the final activation function for a regression network?\n",
    "* What loss functions can be used to train a regression network?"
   ]
  },
  {
   "cell_type": "markdown",
   "metadata": {},
   "source": [
    "# REGRESSION MODEL: START HERE"
   ]
  },
  {
   "cell_type": "code",
   "execution_count": null,
   "metadata": {},
   "outputs": [],
   "source": [
    "from torchvision.transforms import InterpolationMode\n",
    "# Normalize images\n",
    "data_aug = transforms.Compose([\n",
    "    transforms.ToImage(),\n",
    "    transforms.Resize((256, 256), interpolation=InterpolationMode.BICUBIC),\n",
    "    transforms.CenterCrop((224, 224)),\n",
    "    transforms.ToDtype(torch.float32, scale=True),\n",
    "    transforms.Normalize([0.485, 0.456, 0.406], [0.229, 0.224, 0.225])\n",
    "])\n",
    "\n",
    "data_in = transforms.Compose([\n",
    "    transforms.ToImage(),\n",
    "    transforms.Resize((256, 256), interpolation=InterpolationMode.BICUBIC),\n",
    "    transforms.CenterCrop((224, 224)),\n",
    "    transforms.ToDtype(torch.float32, scale=True),\n",
    "    transforms.Normalize([0.485, 0.456, 0.406], [0.229, 0.224, 0.225])\n",
    "])"
   ]
  },
  {
   "cell_type": "code",
   "execution_count": 134,
   "metadata": {},
   "outputs": [
    {
     "name": "stdout",
     "output_type": "stream",
     "text": [
      "Number of train images: 1442\n",
      "Number of valid images: 330\n",
      "Number of test images: 306\n"
     ]
    }
   ],
   "source": [
    "def chesspos2number(chesspos):\n",
    "    col = ord(chesspos[0])-ord('a')\n",
    "    row = int(chesspos[1])-1\n",
    "    return row, col\n",
    "\n",
    "class ChessDataset(Dataset):\n",
    "    def __init__(self, root_dir, partition, transform=None):\n",
    "        self.anns = json.load(open(os.path.join(root_dir, 'annotations.json')))\n",
    "        self.categories = [c['name'] for c in self.anns['categories']]\n",
    "        self.root = root_dir\n",
    "        self.ids = []\n",
    "        self.file_names = []\n",
    "        for x in self.anns['images']:\n",
    "            self.file_names.append(x['path'])\n",
    "            self.ids.append(x['id'])\n",
    "        self.file_names = np.asarray(self.file_names)\n",
    "        self.ids = np.asarray(self.ids)\n",
    "        self.boards = torch.zeros((len(self.file_names), 8, 8))\n",
    "        for piece in self.anns['annotations']['pieces']:\n",
    "            idx = np.where(self.ids == piece['image_id'])[0][0]\n",
    "            row, col = chesspos2number(piece['chessboard_position'])\n",
    "            self.boards[idx][row][col] = 1\n",
    "\n",
    "        if partition == 'train':\n",
    "            self.split_ids = np.asarray(self.anns['splits']['chessred2k']['train']['image_ids']).astype(int)\n",
    "        elif partition == 'valid':\n",
    "            self.split_ids = np.asarray(self.anns['splits']['chessred2k']['val']['image_ids']).astype(int)\n",
    "        else:\n",
    "            self.split_ids = np.asarray(self.anns['splits']['chessred2k']['test']['image_ids']).astype(int)\n",
    "\n",
    "        intersect = np.isin(self.ids, self.split_ids)\n",
    "        self.split_ids = np.where(intersect)[0]\n",
    "        self.file_names = self.file_names[self.split_ids]\n",
    "        self.boards = self.boards[self.split_ids]\n",
    "        self.num_pieces = torch.sum(self.boards.view(len(self.boards), 64), axis=-1)\n",
    "        self.ids = self.ids[self.split_ids]\n",
    "\n",
    "        self.transform = transform\n",
    "        print(f\"Number of {partition} images: {len(self.file_names)}\")\n",
    "\n",
    "    def __len__(self):\n",
    "        return len(self.file_names)\n",
    "\n",
    "    def __getitem__(self, i):\n",
    "        image = cv2.imread(os.path.join(self.root, self.file_names[i]))\n",
    "        image = cv2.cvtColor(image, cv2.COLOR_BGR2RGB)\n",
    "\n",
    "        if self.transform:\n",
    "            image = self.transform(image)\n",
    "\n",
    "        num_pieces = self.num_pieces[i].item()\n",
    "\n",
    "        return image, num_pieces\n",
    "\n",
    "train_dataset = ChessDataset('', 'train', data_aug)\n",
    "valid_dataset = ChessDataset('', 'valid', data_in)\n",
    "test_dataset = ChessDataset('', 'test', data_in)"
   ]
  },
  {
   "cell_type": "code",
   "execution_count": 136,
   "metadata": {},
   "outputs": [
    {
     "name": "stdout",
     "output_type": "stream",
     "text": [
      "Using cpu device\n"
     ]
    }
   ],
   "source": [
    "# get cpu or gpu device for training\n",
    "device = \"cuda\" if torch.cuda.is_available() else \"cpu\"\n",
    "print(f\"Using {device} device\")\n",
    "\n",
    "# now we need to define a Dataloader, which allows us to automatically batch our inputs, do sampling and multiprocess data loading\n",
    "batch_size = 16\n",
    "\n",
    "train_dataloader = DataLoader(train_dataset, batch_size=batch_size, shuffle=True, drop_last=True)\n",
    "valid_dataloader = DataLoader(valid_dataset, batch_size=batch_size, shuffle=False, drop_last=False)\n",
    "test_dataloader = DataLoader(test_dataset, batch_size=batch_size, shuffle=False, drop_last=False)"
   ]
  },
  {
   "cell_type": "code",
   "execution_count": 27,
   "metadata": {},
   "outputs": [
    {
     "data": {
      "text/plain": [
       "ResNet(\n",
       "  (conv1): Conv2d(3, 64, kernel_size=(7, 7), stride=(2, 2), padding=(3, 3), bias=False)\n",
       "  (bn1): BatchNorm2d(64, eps=1e-05, momentum=0.1, affine=True, track_running_stats=True)\n",
       "  (relu): ReLU(inplace=True)\n",
       "  (maxpool): MaxPool2d(kernel_size=3, stride=2, padding=1, dilation=1, ceil_mode=False)\n",
       "  (layer1): Sequential(\n",
       "    (0): BasicBlock(\n",
       "      (conv1): Conv2d(64, 64, kernel_size=(3, 3), stride=(1, 1), padding=(1, 1), bias=False)\n",
       "      (bn1): BatchNorm2d(64, eps=1e-05, momentum=0.1, affine=True, track_running_stats=True)\n",
       "      (relu): ReLU(inplace=True)\n",
       "      (conv2): Conv2d(64, 64, kernel_size=(3, 3), stride=(1, 1), padding=(1, 1), bias=False)\n",
       "      (bn2): BatchNorm2d(64, eps=1e-05, momentum=0.1, affine=True, track_running_stats=True)\n",
       "    )\n",
       "    (1): BasicBlock(\n",
       "      (conv1): Conv2d(64, 64, kernel_size=(3, 3), stride=(1, 1), padding=(1, 1), bias=False)\n",
       "      (bn1): BatchNorm2d(64, eps=1e-05, momentum=0.1, affine=True, track_running_stats=True)\n",
       "      (relu): ReLU(inplace=True)\n",
       "      (conv2): Conv2d(64, 64, kernel_size=(3, 3), stride=(1, 1), padding=(1, 1), bias=False)\n",
       "      (bn2): BatchNorm2d(64, eps=1e-05, momentum=0.1, affine=True, track_running_stats=True)\n",
       "    )\n",
       "  )\n",
       "  (layer2): Sequential(\n",
       "    (0): BasicBlock(\n",
       "      (conv1): Conv2d(64, 128, kernel_size=(3, 3), stride=(2, 2), padding=(1, 1), bias=False)\n",
       "      (bn1): BatchNorm2d(128, eps=1e-05, momentum=0.1, affine=True, track_running_stats=True)\n",
       "      (relu): ReLU(inplace=True)\n",
       "      (conv2): Conv2d(128, 128, kernel_size=(3, 3), stride=(1, 1), padding=(1, 1), bias=False)\n",
       "      (bn2): BatchNorm2d(128, eps=1e-05, momentum=0.1, affine=True, track_running_stats=True)\n",
       "      (downsample): Sequential(\n",
       "        (0): Conv2d(64, 128, kernel_size=(1, 1), stride=(2, 2), bias=False)\n",
       "        (1): BatchNorm2d(128, eps=1e-05, momentum=0.1, affine=True, track_running_stats=True)\n",
       "      )\n",
       "    )\n",
       "    (1): BasicBlock(\n",
       "      (conv1): Conv2d(128, 128, kernel_size=(3, 3), stride=(1, 1), padding=(1, 1), bias=False)\n",
       "      (bn1): BatchNorm2d(128, eps=1e-05, momentum=0.1, affine=True, track_running_stats=True)\n",
       "      (relu): ReLU(inplace=True)\n",
       "      (conv2): Conv2d(128, 128, kernel_size=(3, 3), stride=(1, 1), padding=(1, 1), bias=False)\n",
       "      (bn2): BatchNorm2d(128, eps=1e-05, momentum=0.1, affine=True, track_running_stats=True)\n",
       "    )\n",
       "  )\n",
       "  (layer3): Sequential(\n",
       "    (0): BasicBlock(\n",
       "      (conv1): Conv2d(128, 256, kernel_size=(3, 3), stride=(2, 2), padding=(1, 1), bias=False)\n",
       "      (bn1): BatchNorm2d(256, eps=1e-05, momentum=0.1, affine=True, track_running_stats=True)\n",
       "      (relu): ReLU(inplace=True)\n",
       "      (conv2): Conv2d(256, 256, kernel_size=(3, 3), stride=(1, 1), padding=(1, 1), bias=False)\n",
       "      (bn2): BatchNorm2d(256, eps=1e-05, momentum=0.1, affine=True, track_running_stats=True)\n",
       "      (downsample): Sequential(\n",
       "        (0): Conv2d(128, 256, kernel_size=(1, 1), stride=(2, 2), bias=False)\n",
       "        (1): BatchNorm2d(256, eps=1e-05, momentum=0.1, affine=True, track_running_stats=True)\n",
       "      )\n",
       "    )\n",
       "    (1): BasicBlock(\n",
       "      (conv1): Conv2d(256, 256, kernel_size=(3, 3), stride=(1, 1), padding=(1, 1), bias=False)\n",
       "      (bn1): BatchNorm2d(256, eps=1e-05, momentum=0.1, affine=True, track_running_stats=True)\n",
       "      (relu): ReLU(inplace=True)\n",
       "      (conv2): Conv2d(256, 256, kernel_size=(3, 3), stride=(1, 1), padding=(1, 1), bias=False)\n",
       "      (bn2): BatchNorm2d(256, eps=1e-05, momentum=0.1, affine=True, track_running_stats=True)\n",
       "    )\n",
       "  )\n",
       "  (layer4): Sequential(\n",
       "    (0): BasicBlock(\n",
       "      (conv1): Conv2d(256, 512, kernel_size=(3, 3), stride=(2, 2), padding=(1, 1), bias=False)\n",
       "      (bn1): BatchNorm2d(512, eps=1e-05, momentum=0.1, affine=True, track_running_stats=True)\n",
       "      (relu): ReLU(inplace=True)\n",
       "      (conv2): Conv2d(512, 512, kernel_size=(3, 3), stride=(1, 1), padding=(1, 1), bias=False)\n",
       "      (bn2): BatchNorm2d(512, eps=1e-05, momentum=0.1, affine=True, track_running_stats=True)\n",
       "      (downsample): Sequential(\n",
       "        (0): Conv2d(256, 512, kernel_size=(1, 1), stride=(2, 2), bias=False)\n",
       "        (1): BatchNorm2d(512, eps=1e-05, momentum=0.1, affine=True, track_running_stats=True)\n",
       "      )\n",
       "    )\n",
       "    (1): BasicBlock(\n",
       "      (conv1): Conv2d(512, 512, kernel_size=(3, 3), stride=(1, 1), padding=(1, 1), bias=False)\n",
       "      (bn1): BatchNorm2d(512, eps=1e-05, momentum=0.1, affine=True, track_running_stats=True)\n",
       "      (relu): ReLU(inplace=True)\n",
       "      (conv2): Conv2d(512, 512, kernel_size=(3, 3), stride=(1, 1), padding=(1, 1), bias=False)\n",
       "      (bn2): BatchNorm2d(512, eps=1e-05, momentum=0.1, affine=True, track_running_stats=True)\n",
       "    )\n",
       "  )\n",
       "  (avgpool): AdaptiveAvgPool2d(output_size=(1, 1))\n",
       "  (fc): Linear(in_features=512, out_features=1, bias=True)\n",
       ")"
      ]
     },
     "execution_count": 27,
     "metadata": {},
     "output_type": "execute_result"
    }
   ],
   "source": [
    "# Regression mdoel\n",
    "model2 = models.resnet18(weights=models.ResNet18_Weights.DEFAULT)\n",
    "\n",
    "# Change the last layer for regression (single output neuron)\n",
    "model2.fc = nn.Linear(model2.fc.in_features, 1)\n",
    "\n",
    "model2.to(device)"
   ]
  },
  {
   "cell_type": "code",
   "execution_count": 28,
   "metadata": {},
   "outputs": [],
   "source": [
    "def train_regressor(model, train_dataloader, val_dataloader, loss_fn, optimizer, device, num_epochs=50, lr_scheduler=None):\n",
    "    \n",
    "    model = model.to(device)\n",
    "    \n",
    "    # Evaluation history\n",
    "    train_history = {\n",
    "        'loss': [],\n",
    "        'mae': [],\n",
    "    }\n",
    "    val_history = {\n",
    "        'loss': [],\n",
    "        'mae': [],\n",
    "    }\n",
    "    \n",
    "    for epoch in range(num_epochs):\n",
    "        # Training \n",
    "        model.train()\n",
    "        epoch_train_loss = 0.0\n",
    "        epoch_train_mae = 0.0\n",
    "        \n",
    "        for inputs, labels in tqdm(train_dataloader, desc=f\"Epoch {epoch+1}/{num_epochs} [Training]\"):\n",
    "            inputs = inputs.to(device)\n",
    "            labels = labels.to(device).float()\n",
    "            \n",
    "            optimizer.zero_grad()\n",
    "            outputs = model(inputs)\n",
    "            loss = loss_fn(outputs.squeeze(), labels)\n",
    "            loss.backward()\n",
    "            optimizer.step()\n",
    "            \n",
    "            epoch_train_loss += loss.item()\n",
    "            epoch_train_mae += torch.nn.functional.l1_loss(outputs.squeeze(), labels).item()\n",
    "        \n",
    "        train_loss = epoch_train_loss / len(train_dataloader)\n",
    "        train_mae = epoch_train_mae / len(train_dataloader)\n",
    "        train_history['loss'].append(train_loss)\n",
    "        train_history['mae'].append(train_mae)\n",
    "        \n",
    "        # Validation \n",
    "        val_loss, val_mae = evaluate_regressor(model, val_dataloader, loss_fn, device)\n",
    "        val_history['loss'].append(val_loss)\n",
    "        val_history['mae'].append(val_mae)\n",
    "        \n",
    "        print(f'Train Loss: {train_loss:.4f} || Train MAE: {train_mae:.4f}')\n",
    "        print(f'Val Loss: {val_loss:.4f} || Val MAE: {val_mae:.4f}')\n",
    "    \n",
    "    return train_history, val_history\n",
    "\n",
    "def evaluate_regressor(model, dataloader, loss_fn, device):\n",
    "    model.eval()\n",
    "    running_loss = 0.0\n",
    "    running_mae = 0.0\n",
    "    \n",
    "    with torch.no_grad():\n",
    "        for inputs, labels in dataloader:\n",
    "            inputs = inputs.to(device)\n",
    "            labels = labels.to(device).float()  # Ensure labels are float for regression\n",
    "            \n",
    "            outputs = model(inputs)\n",
    "            loss = loss_fn(outputs.squeeze(), labels)\n",
    "            \n",
    "            running_loss += loss.item()\n",
    "            running_mae += torch.nn.functional.l1_loss(outputs.squeeze(), labels).item()\n",
    "    \n",
    "    loss = running_loss / len(dataloader)\n",
    "    mae = running_mae / len(dataloader)\n",
    "    return loss, mae"
   ]
  },
  {
   "cell_type": "code",
   "execution_count": 31,
   "metadata": {},
   "outputs": [],
   "source": [
    "import torch.optim as optim\n",
    "# Loss Function\n",
    "loss_fn_r = nn.MSELoss()\n",
    "\n",
    "# Optimizer\n",
    "optimizer_phase1 = optim.Adam(model2.fc.parameters(), lr=0.001)\n",
    "optimizer_phase2 = optim.Adam(model2.parameters(), lr=0.0001)"
   ]
  },
  {
   "cell_type": "code",
   "execution_count": 32,
   "metadata": {},
   "outputs": [
    {
     "name": "stderr",
     "output_type": "stream",
     "text": [
      "Epoch 1/10 [Training]: 100%|████████████████████| 90/90 [07:05<00:00,  4.73s/it]\n"
     ]
    },
    {
     "name": "stdout",
     "output_type": "stream",
     "text": [
      "Train Loss: 141.8836 || Train MAE: 9.6627\n",
      "Val Loss: 88.9520 || Val MAE: 8.1997\n"
     ]
    },
    {
     "name": "stderr",
     "output_type": "stream",
     "text": [
      "Epoch 2/10 [Training]: 100%|████████████████████| 90/90 [06:36<00:00,  4.41s/it]\n"
     ]
    },
    {
     "name": "stdout",
     "output_type": "stream",
     "text": [
      "Train Loss: 55.0459 || Train MAE: 6.3944\n",
      "Val Loss: 79.1545 || Val MAE: 7.7668\n"
     ]
    },
    {
     "name": "stderr",
     "output_type": "stream",
     "text": [
      "Epoch 3/10 [Training]: 100%|████████████████████| 90/90 [06:32<00:00,  4.36s/it]\n"
     ]
    },
    {
     "name": "stdout",
     "output_type": "stream",
     "text": [
      "Train Loss: 51.1164 || Train MAE: 6.1619\n",
      "Val Loss: 73.2633 || Val MAE: 7.4713\n"
     ]
    },
    {
     "name": "stderr",
     "output_type": "stream",
     "text": [
      "Epoch 4/10 [Training]: 100%|████████████████████| 90/90 [06:36<00:00,  4.41s/it]\n"
     ]
    },
    {
     "name": "stdout",
     "output_type": "stream",
     "text": [
      "Train Loss: 46.4184 || Train MAE: 5.8865\n",
      "Val Loss: 72.4903 || Val MAE: 7.3623\n"
     ]
    },
    {
     "name": "stderr",
     "output_type": "stream",
     "text": [
      "Epoch 5/10 [Training]: 100%|████████████████████| 90/90 [06:49<00:00,  4.55s/it]\n"
     ]
    },
    {
     "name": "stdout",
     "output_type": "stream",
     "text": [
      "Train Loss: 42.1545 || Train MAE: 5.5892\n",
      "Val Loss: 64.4474 || Val MAE: 6.9665\n"
     ]
    },
    {
     "name": "stderr",
     "output_type": "stream",
     "text": [
      "Epoch 6/10 [Training]: 100%|████████████████████| 90/90 [06:07<00:00,  4.08s/it]\n"
     ]
    },
    {
     "name": "stdout",
     "output_type": "stream",
     "text": [
      "Train Loss: 37.7181 || Train MAE: 5.2666\n",
      "Val Loss: 56.0134 || Val MAE: 6.5072\n"
     ]
    },
    {
     "name": "stderr",
     "output_type": "stream",
     "text": [
      "Epoch 7/10 [Training]: 100%|████████████████████| 90/90 [06:24<00:00,  4.28s/it]\n"
     ]
    },
    {
     "name": "stdout",
     "output_type": "stream",
     "text": [
      "Train Loss: 34.5703 || Train MAE: 5.0069\n",
      "Val Loss: 51.6492 || Val MAE: 6.2292\n"
     ]
    },
    {
     "name": "stderr",
     "output_type": "stream",
     "text": [
      "Epoch 8/10 [Training]: 100%|████████████████████| 90/90 [05:52<00:00,  3.91s/it]\n"
     ]
    },
    {
     "name": "stdout",
     "output_type": "stream",
     "text": [
      "Train Loss: 31.3427 || Train MAE: 4.7532\n",
      "Val Loss: 47.5629 || Val MAE: 5.9519\n"
     ]
    },
    {
     "name": "stderr",
     "output_type": "stream",
     "text": [
      "Epoch 9/10 [Training]: 100%|████████████████████| 90/90 [07:04<00:00,  4.71s/it]\n"
     ]
    },
    {
     "name": "stdout",
     "output_type": "stream",
     "text": [
      "Train Loss: 28.5034 || Train MAE: 4.5031\n",
      "Val Loss: 42.6544 || Val MAE: 5.6434\n"
     ]
    },
    {
     "name": "stderr",
     "output_type": "stream",
     "text": [
      "Epoch 10/10 [Training]: 100%|███████████████████| 90/90 [06:52<00:00,  4.58s/it]\n"
     ]
    },
    {
     "name": "stdout",
     "output_type": "stream",
     "text": [
      "Train Loss: 27.5552 || Train MAE: 4.4101\n",
      "Val Loss: 42.0445 || Val MAE: 5.5221\n"
     ]
    }
   ],
   "source": [
    "# Phase 1: train with frozen params\n",
    "for name, param in model2.named_parameters():\n",
    "    if not name.startswith('fc'):\n",
    "        param.requires_grad = False\n",
    "\n",
    "train_history_r_phase1, val_history_r_phase1 = train_regressor(\n",
    "    model2, train_dataloader, valid_dataloader, loss_fn_r, optimizer_phase1, device, num_epochs=10\n",
    ")"
   ]
  },
  {
   "cell_type": "code",
   "execution_count": 36,
   "metadata": {},
   "outputs": [
    {
     "name": "stderr",
     "output_type": "stream",
     "text": [
      "Epoch 1/40 [Training]: 100%|████████████████████| 90/90 [09:40<00:00,  6.45s/it]\n"
     ]
    },
    {
     "name": "stdout",
     "output_type": "stream",
     "text": [
      "Train Loss: 11.6404 || Train MAE: 2.6756\n",
      "Val Loss: 5.6470 || Val MAE: 1.8460\n"
     ]
    },
    {
     "name": "stderr",
     "output_type": "stream",
     "text": [
      "Epoch 2/40 [Training]: 100%|████████████████████| 90/90 [10:07<00:00,  6.75s/it]\n"
     ]
    },
    {
     "name": "stdout",
     "output_type": "stream",
     "text": [
      "Train Loss: 6.2584 || Train MAE: 1.9904\n",
      "Val Loss: 4.4333 || Val MAE: 1.7631\n"
     ]
    },
    {
     "name": "stderr",
     "output_type": "stream",
     "text": [
      "Epoch 3/40 [Training]: 100%|████████████████████| 90/90 [11:32<00:00,  7.70s/it]\n"
     ]
    },
    {
     "name": "stdout",
     "output_type": "stream",
     "text": [
      "Train Loss: 4.2232 || Train MAE: 1.6424\n",
      "Val Loss: 4.1321 || Val MAE: 1.6758\n"
     ]
    },
    {
     "name": "stderr",
     "output_type": "stream",
     "text": [
      "Epoch 4/40 [Training]: 100%|████████████████████| 90/90 [11:08<00:00,  7.43s/it]\n"
     ]
    },
    {
     "name": "stdout",
     "output_type": "stream",
     "text": [
      "Train Loss: 3.3423 || Train MAE: 1.4503\n",
      "Val Loss: 3.6933 || Val MAE: 1.5982\n"
     ]
    },
    {
     "name": "stderr",
     "output_type": "stream",
     "text": [
      "Epoch 5/40 [Training]: 100%|████████████████████| 90/90 [17:52<00:00, 11.92s/it]\n"
     ]
    },
    {
     "name": "stdout",
     "output_type": "stream",
     "text": [
      "Train Loss: 3.7251 || Train MAE: 1.5310\n",
      "Val Loss: 3.0202 || Val MAE: 1.4390\n"
     ]
    },
    {
     "name": "stderr",
     "output_type": "stream",
     "text": [
      "Epoch 6/40 [Training]: 100%|████████████████████| 90/90 [16:04<00:00, 10.72s/it]\n"
     ]
    },
    {
     "name": "stdout",
     "output_type": "stream",
     "text": [
      "Train Loss: 3.6966 || Train MAE: 1.5551\n",
      "Val Loss: 4.5785 || Val MAE: 1.8134\n"
     ]
    },
    {
     "name": "stderr",
     "output_type": "stream",
     "text": [
      "Epoch 7/40 [Training]: 100%|████████████████████| 90/90 [13:58<00:00,  9.32s/it]\n"
     ]
    },
    {
     "name": "stdout",
     "output_type": "stream",
     "text": [
      "Train Loss: 3.7651 || Train MAE: 1.5380\n",
      "Val Loss: 3.9913 || Val MAE: 1.6078\n"
     ]
    },
    {
     "name": "stderr",
     "output_type": "stream",
     "text": [
      "Epoch 8/40 [Training]: 100%|████████████████████| 90/90 [09:30<00:00,  6.34s/it]\n"
     ]
    },
    {
     "name": "stdout",
     "output_type": "stream",
     "text": [
      "Train Loss: 2.6460 || Train MAE: 1.2822\n",
      "Val Loss: 3.3637 || Val MAE: 1.5235\n"
     ]
    },
    {
     "name": "stderr",
     "output_type": "stream",
     "text": [
      "Epoch 9/40 [Training]: 100%|████████████████████| 90/90 [09:28<00:00,  6.32s/it]\n"
     ]
    },
    {
     "name": "stdout",
     "output_type": "stream",
     "text": [
      "Train Loss: 2.8335 || Train MAE: 1.3537\n",
      "Val Loss: 4.2373 || Val MAE: 1.7728\n"
     ]
    },
    {
     "name": "stderr",
     "output_type": "stream",
     "text": [
      "Epoch 10/40 [Training]:   4%|▉                   | 4/90 [00:29<10:26,  7.29s/it]\n"
     ]
    },
    {
     "ename": "KeyboardInterrupt",
     "evalue": "",
     "output_type": "error",
     "traceback": [
      "\u001b[0;31m---------------------------------------------------------------------------\u001b[0m",
      "\u001b[0;31mKeyboardInterrupt\u001b[0m                         Traceback (most recent call last)",
      "Cell \u001b[0;32mIn[36], line 5\u001b[0m\n\u001b[1;32m      1\u001b[0m \u001b[38;5;66;03m# 2nd Phase: train whole model (unfreeze)\u001b[39;00m\n\u001b[1;32m      2\u001b[0m \u001b[38;5;66;03m# for param in model2.parameters():\u001b[39;00m\n\u001b[1;32m      3\u001b[0m \u001b[38;5;66;03m#     param.requires_grad = True\u001b[39;00m\n\u001b[0;32m----> 5\u001b[0m train_history_r_phase2, val_history_r_phase2 \u001b[38;5;241m=\u001b[39m \u001b[43mtrain_regressor\u001b[49m\u001b[43m(\u001b[49m\n\u001b[1;32m      6\u001b[0m \u001b[43m    \u001b[49m\u001b[43mmodel2\u001b[49m\u001b[43m,\u001b[49m\u001b[43m \u001b[49m\u001b[43mtrain_dataloader\u001b[49m\u001b[43m,\u001b[49m\u001b[43m \u001b[49m\u001b[43mvalid_dataloader\u001b[49m\u001b[43m,\u001b[49m\u001b[43m \u001b[49m\u001b[43mloss_fn_r\u001b[49m\u001b[43m,\u001b[49m\u001b[43m \u001b[49m\u001b[43moptimizer_phase2\u001b[49m\u001b[43m,\u001b[49m\u001b[43m \u001b[49m\u001b[43mdevice\u001b[49m\u001b[43m,\u001b[49m\u001b[43m \u001b[49m\u001b[43mnum_epochs\u001b[49m\u001b[38;5;241;43m=\u001b[39;49m\u001b[38;5;241;43m40\u001b[39;49m\n\u001b[1;32m      7\u001b[0m \u001b[43m)\u001b[49m\n",
      "Cell \u001b[0;32mIn[28], line 21\u001b[0m, in \u001b[0;36mtrain_regressor\u001b[0;34m(model, train_dataloader, val_dataloader, loss_fn, optimizer, device, num_epochs, lr_scheduler)\u001b[0m\n\u001b[1;32m     18\u001b[0m epoch_train_loss \u001b[38;5;241m=\u001b[39m \u001b[38;5;241m0.0\u001b[39m\n\u001b[1;32m     19\u001b[0m epoch_train_mae \u001b[38;5;241m=\u001b[39m \u001b[38;5;241m0.0\u001b[39m\n\u001b[0;32m---> 21\u001b[0m \u001b[38;5;28;01mfor\u001b[39;00m inputs, labels \u001b[38;5;129;01min\u001b[39;00m tqdm(train_dataloader, desc\u001b[38;5;241m=\u001b[39m\u001b[38;5;124mf\u001b[39m\u001b[38;5;124m\"\u001b[39m\u001b[38;5;124mEpoch \u001b[39m\u001b[38;5;132;01m{\u001b[39;00mepoch\u001b[38;5;241m+\u001b[39m\u001b[38;5;241m1\u001b[39m\u001b[38;5;132;01m}\u001b[39;00m\u001b[38;5;124m/\u001b[39m\u001b[38;5;132;01m{\u001b[39;00mnum_epochs\u001b[38;5;132;01m}\u001b[39;00m\u001b[38;5;124m [Training]\u001b[39m\u001b[38;5;124m\"\u001b[39m):\n\u001b[1;32m     22\u001b[0m     inputs \u001b[38;5;241m=\u001b[39m inputs\u001b[38;5;241m.\u001b[39mto(device)\n\u001b[1;32m     23\u001b[0m     labels \u001b[38;5;241m=\u001b[39m labels\u001b[38;5;241m.\u001b[39mto(device)\u001b[38;5;241m.\u001b[39mfloat()\n",
      "File \u001b[0;32m/opt/anaconda3/envs/tfenv/lib/python3.8/site-packages/tqdm/std.py:1181\u001b[0m, in \u001b[0;36mtqdm.__iter__\u001b[0;34m(self)\u001b[0m\n\u001b[1;32m   1178\u001b[0m time \u001b[38;5;241m=\u001b[39m \u001b[38;5;28mself\u001b[39m\u001b[38;5;241m.\u001b[39m_time\n\u001b[1;32m   1180\u001b[0m \u001b[38;5;28;01mtry\u001b[39;00m:\n\u001b[0;32m-> 1181\u001b[0m     \u001b[38;5;28;01mfor\u001b[39;00m obj \u001b[38;5;129;01min\u001b[39;00m iterable:\n\u001b[1;32m   1182\u001b[0m         \u001b[38;5;28;01myield\u001b[39;00m obj\n\u001b[1;32m   1183\u001b[0m         \u001b[38;5;66;03m# Update and possibly print the progressbar.\u001b[39;00m\n\u001b[1;32m   1184\u001b[0m         \u001b[38;5;66;03m# Note: does not call self.update(1) for speed optimisation.\u001b[39;00m\n",
      "File \u001b[0;32m/opt/anaconda3/envs/tfenv/lib/python3.8/site-packages/torch/utils/data/dataloader.py:631\u001b[0m, in \u001b[0;36m_BaseDataLoaderIter.__next__\u001b[0;34m(self)\u001b[0m\n\u001b[1;32m    628\u001b[0m \u001b[38;5;28;01mif\u001b[39;00m \u001b[38;5;28mself\u001b[39m\u001b[38;5;241m.\u001b[39m_sampler_iter \u001b[38;5;129;01mis\u001b[39;00m \u001b[38;5;28;01mNone\u001b[39;00m:\n\u001b[1;32m    629\u001b[0m     \u001b[38;5;66;03m# TODO(https://github.com/pytorch/pytorch/issues/76750)\u001b[39;00m\n\u001b[1;32m    630\u001b[0m     \u001b[38;5;28mself\u001b[39m\u001b[38;5;241m.\u001b[39m_reset()  \u001b[38;5;66;03m# type: ignore[call-arg]\u001b[39;00m\n\u001b[0;32m--> 631\u001b[0m data \u001b[38;5;241m=\u001b[39m \u001b[38;5;28;43mself\u001b[39;49m\u001b[38;5;241;43m.\u001b[39;49m\u001b[43m_next_data\u001b[49m\u001b[43m(\u001b[49m\u001b[43m)\u001b[49m\n\u001b[1;32m    632\u001b[0m \u001b[38;5;28mself\u001b[39m\u001b[38;5;241m.\u001b[39m_num_yielded \u001b[38;5;241m+\u001b[39m\u001b[38;5;241m=\u001b[39m \u001b[38;5;241m1\u001b[39m\n\u001b[1;32m    633\u001b[0m \u001b[38;5;28;01mif\u001b[39;00m \u001b[38;5;28mself\u001b[39m\u001b[38;5;241m.\u001b[39m_dataset_kind \u001b[38;5;241m==\u001b[39m _DatasetKind\u001b[38;5;241m.\u001b[39mIterable \u001b[38;5;129;01mand\u001b[39;00m \\\n\u001b[1;32m    634\u001b[0m         \u001b[38;5;28mself\u001b[39m\u001b[38;5;241m.\u001b[39m_IterableDataset_len_called \u001b[38;5;129;01mis\u001b[39;00m \u001b[38;5;129;01mnot\u001b[39;00m \u001b[38;5;28;01mNone\u001b[39;00m \u001b[38;5;129;01mand\u001b[39;00m \\\n\u001b[1;32m    635\u001b[0m         \u001b[38;5;28mself\u001b[39m\u001b[38;5;241m.\u001b[39m_num_yielded \u001b[38;5;241m>\u001b[39m \u001b[38;5;28mself\u001b[39m\u001b[38;5;241m.\u001b[39m_IterableDataset_len_called:\n",
      "File \u001b[0;32m/opt/anaconda3/envs/tfenv/lib/python3.8/site-packages/torch/utils/data/dataloader.py:675\u001b[0m, in \u001b[0;36m_SingleProcessDataLoaderIter._next_data\u001b[0;34m(self)\u001b[0m\n\u001b[1;32m    673\u001b[0m \u001b[38;5;28;01mdef\u001b[39;00m \u001b[38;5;21m_next_data\u001b[39m(\u001b[38;5;28mself\u001b[39m):\n\u001b[1;32m    674\u001b[0m     index \u001b[38;5;241m=\u001b[39m \u001b[38;5;28mself\u001b[39m\u001b[38;5;241m.\u001b[39m_next_index()  \u001b[38;5;66;03m# may raise StopIteration\u001b[39;00m\n\u001b[0;32m--> 675\u001b[0m     data \u001b[38;5;241m=\u001b[39m \u001b[38;5;28;43mself\u001b[39;49m\u001b[38;5;241;43m.\u001b[39;49m\u001b[43m_dataset_fetcher\u001b[49m\u001b[38;5;241;43m.\u001b[39;49m\u001b[43mfetch\u001b[49m\u001b[43m(\u001b[49m\u001b[43mindex\u001b[49m\u001b[43m)\u001b[49m  \u001b[38;5;66;03m# may raise StopIteration\u001b[39;00m\n\u001b[1;32m    676\u001b[0m     \u001b[38;5;28;01mif\u001b[39;00m \u001b[38;5;28mself\u001b[39m\u001b[38;5;241m.\u001b[39m_pin_memory:\n\u001b[1;32m    677\u001b[0m         data \u001b[38;5;241m=\u001b[39m _utils\u001b[38;5;241m.\u001b[39mpin_memory\u001b[38;5;241m.\u001b[39mpin_memory(data, \u001b[38;5;28mself\u001b[39m\u001b[38;5;241m.\u001b[39m_pin_memory_device)\n",
      "File \u001b[0;32m/opt/anaconda3/envs/tfenv/lib/python3.8/site-packages/torch/utils/data/_utils/fetch.py:51\u001b[0m, in \u001b[0;36m_MapDatasetFetcher.fetch\u001b[0;34m(self, possibly_batched_index)\u001b[0m\n\u001b[1;32m     49\u001b[0m         data \u001b[38;5;241m=\u001b[39m \u001b[38;5;28mself\u001b[39m\u001b[38;5;241m.\u001b[39mdataset\u001b[38;5;241m.\u001b[39m__getitems__(possibly_batched_index)\n\u001b[1;32m     50\u001b[0m     \u001b[38;5;28;01melse\u001b[39;00m:\n\u001b[0;32m---> 51\u001b[0m         data \u001b[38;5;241m=\u001b[39m [\u001b[38;5;28mself\u001b[39m\u001b[38;5;241m.\u001b[39mdataset[idx] \u001b[38;5;28;01mfor\u001b[39;00m idx \u001b[38;5;129;01min\u001b[39;00m possibly_batched_index]\n\u001b[1;32m     52\u001b[0m \u001b[38;5;28;01melse\u001b[39;00m:\n\u001b[1;32m     53\u001b[0m     data \u001b[38;5;241m=\u001b[39m \u001b[38;5;28mself\u001b[39m\u001b[38;5;241m.\u001b[39mdataset[possibly_batched_index]\n",
      "File \u001b[0;32m/opt/anaconda3/envs/tfenv/lib/python3.8/site-packages/torch/utils/data/_utils/fetch.py:51\u001b[0m, in \u001b[0;36m<listcomp>\u001b[0;34m(.0)\u001b[0m\n\u001b[1;32m     49\u001b[0m         data \u001b[38;5;241m=\u001b[39m \u001b[38;5;28mself\u001b[39m\u001b[38;5;241m.\u001b[39mdataset\u001b[38;5;241m.\u001b[39m__getitems__(possibly_batched_index)\n\u001b[1;32m     50\u001b[0m     \u001b[38;5;28;01melse\u001b[39;00m:\n\u001b[0;32m---> 51\u001b[0m         data \u001b[38;5;241m=\u001b[39m [\u001b[38;5;28;43mself\u001b[39;49m\u001b[38;5;241;43m.\u001b[39;49m\u001b[43mdataset\u001b[49m\u001b[43m[\u001b[49m\u001b[43midx\u001b[49m\u001b[43m]\u001b[49m \u001b[38;5;28;01mfor\u001b[39;00m idx \u001b[38;5;129;01min\u001b[39;00m possibly_batched_index]\n\u001b[1;32m     52\u001b[0m \u001b[38;5;28;01melse\u001b[39;00m:\n\u001b[1;32m     53\u001b[0m     data \u001b[38;5;241m=\u001b[39m \u001b[38;5;28mself\u001b[39m\u001b[38;5;241m.\u001b[39mdataset[possibly_batched_index]\n",
      "Cell \u001b[0;32mIn[15], line 45\u001b[0m, in \u001b[0;36mChessDataset.__getitem__\u001b[0;34m(self, i)\u001b[0m\n\u001b[1;32m     44\u001b[0m \u001b[38;5;28;01mdef\u001b[39;00m \u001b[38;5;21m__getitem__\u001b[39m(\u001b[38;5;28mself\u001b[39m, i):\n\u001b[0;32m---> 45\u001b[0m     image \u001b[38;5;241m=\u001b[39m \u001b[43mcv2\u001b[49m\u001b[38;5;241;43m.\u001b[39;49m\u001b[43mimread\u001b[49m\u001b[43m(\u001b[49m\u001b[43mos\u001b[49m\u001b[38;5;241;43m.\u001b[39;49m\u001b[43mpath\u001b[49m\u001b[38;5;241;43m.\u001b[39;49m\u001b[43mjoin\u001b[49m\u001b[43m(\u001b[49m\u001b[38;5;28;43mself\u001b[39;49m\u001b[38;5;241;43m.\u001b[39;49m\u001b[43mroot\u001b[49m\u001b[43m,\u001b[49m\u001b[43m \u001b[49m\u001b[38;5;28;43mself\u001b[39;49m\u001b[38;5;241;43m.\u001b[39;49m\u001b[43mfile_names\u001b[49m\u001b[43m[\u001b[49m\u001b[43mi\u001b[49m\u001b[43m]\u001b[49m\u001b[43m)\u001b[49m\u001b[43m)\u001b[49m\n\u001b[1;32m     46\u001b[0m     image \u001b[38;5;241m=\u001b[39m cv2\u001b[38;5;241m.\u001b[39mcvtColor(image, cv2\u001b[38;5;241m.\u001b[39mCOLOR_BGR2RGB)\n\u001b[1;32m     48\u001b[0m     \u001b[38;5;28;01mif\u001b[39;00m \u001b[38;5;28mself\u001b[39m\u001b[38;5;241m.\u001b[39mtransform:\n",
      "\u001b[0;31mKeyboardInterrupt\u001b[0m: "
     ]
    }
   ],
   "source": [
    "# 2nd Phase: train whole model (unfreeze)\n",
    "for param in model2.parameters():\n",
    "    param.requires_grad = True\n",
    "    \n",
    "train_history_r_phase2, val_history_r_phase2 = train_regressor(\n",
    "    model2, train_dataloader, valid_dataloader, loss_fn_r, optimizer_phase2, device, num_epochs=40\n",
    ")"
   ]
  },
  {
   "cell_type": "markdown",
   "metadata": {},
   "source": [
    "## - Training Optimization bc of the overfitting in the previous model"
   ]
  },
  {
   "cell_type": "code",
   "execution_count": 73,
   "metadata": {},
   "outputs": [
    {
     "data": {
      "text/plain": [
       "ResNet(\n",
       "  (conv1): Conv2d(3, 64, kernel_size=(7, 7), stride=(2, 2), padding=(3, 3), bias=False)\n",
       "  (bn1): BatchNorm2d(64, eps=1e-05, momentum=0.1, affine=True, track_running_stats=True)\n",
       "  (relu): ReLU(inplace=True)\n",
       "  (maxpool): MaxPool2d(kernel_size=3, stride=2, padding=1, dilation=1, ceil_mode=False)\n",
       "  (layer1): Sequential(\n",
       "    (0): BasicBlock(\n",
       "      (conv1): Conv2d(64, 64, kernel_size=(3, 3), stride=(1, 1), padding=(1, 1), bias=False)\n",
       "      (bn1): BatchNorm2d(64, eps=1e-05, momentum=0.1, affine=True, track_running_stats=True)\n",
       "      (relu): ReLU(inplace=True)\n",
       "      (conv2): Conv2d(64, 64, kernel_size=(3, 3), stride=(1, 1), padding=(1, 1), bias=False)\n",
       "      (bn2): BatchNorm2d(64, eps=1e-05, momentum=0.1, affine=True, track_running_stats=True)\n",
       "    )\n",
       "    (1): BasicBlock(\n",
       "      (conv1): Conv2d(64, 64, kernel_size=(3, 3), stride=(1, 1), padding=(1, 1), bias=False)\n",
       "      (bn1): BatchNorm2d(64, eps=1e-05, momentum=0.1, affine=True, track_running_stats=True)\n",
       "      (relu): ReLU(inplace=True)\n",
       "      (conv2): Conv2d(64, 64, kernel_size=(3, 3), stride=(1, 1), padding=(1, 1), bias=False)\n",
       "      (bn2): BatchNorm2d(64, eps=1e-05, momentum=0.1, affine=True, track_running_stats=True)\n",
       "    )\n",
       "  )\n",
       "  (layer2): Sequential(\n",
       "    (0): BasicBlock(\n",
       "      (conv1): Conv2d(64, 128, kernel_size=(3, 3), stride=(2, 2), padding=(1, 1), bias=False)\n",
       "      (bn1): BatchNorm2d(128, eps=1e-05, momentum=0.1, affine=True, track_running_stats=True)\n",
       "      (relu): ReLU(inplace=True)\n",
       "      (conv2): Conv2d(128, 128, kernel_size=(3, 3), stride=(1, 1), padding=(1, 1), bias=False)\n",
       "      (bn2): BatchNorm2d(128, eps=1e-05, momentum=0.1, affine=True, track_running_stats=True)\n",
       "      (downsample): Sequential(\n",
       "        (0): Conv2d(64, 128, kernel_size=(1, 1), stride=(2, 2), bias=False)\n",
       "        (1): BatchNorm2d(128, eps=1e-05, momentum=0.1, affine=True, track_running_stats=True)\n",
       "      )\n",
       "    )\n",
       "    (1): BasicBlock(\n",
       "      (conv1): Conv2d(128, 128, kernel_size=(3, 3), stride=(1, 1), padding=(1, 1), bias=False)\n",
       "      (bn1): BatchNorm2d(128, eps=1e-05, momentum=0.1, affine=True, track_running_stats=True)\n",
       "      (relu): ReLU(inplace=True)\n",
       "      (conv2): Conv2d(128, 128, kernel_size=(3, 3), stride=(1, 1), padding=(1, 1), bias=False)\n",
       "      (bn2): BatchNorm2d(128, eps=1e-05, momentum=0.1, affine=True, track_running_stats=True)\n",
       "    )\n",
       "  )\n",
       "  (layer3): Sequential(\n",
       "    (0): BasicBlock(\n",
       "      (conv1): Conv2d(128, 256, kernel_size=(3, 3), stride=(2, 2), padding=(1, 1), bias=False)\n",
       "      (bn1): BatchNorm2d(256, eps=1e-05, momentum=0.1, affine=True, track_running_stats=True)\n",
       "      (relu): ReLU(inplace=True)\n",
       "      (conv2): Conv2d(256, 256, kernel_size=(3, 3), stride=(1, 1), padding=(1, 1), bias=False)\n",
       "      (bn2): BatchNorm2d(256, eps=1e-05, momentum=0.1, affine=True, track_running_stats=True)\n",
       "      (downsample): Sequential(\n",
       "        (0): Conv2d(128, 256, kernel_size=(1, 1), stride=(2, 2), bias=False)\n",
       "        (1): BatchNorm2d(256, eps=1e-05, momentum=0.1, affine=True, track_running_stats=True)\n",
       "      )\n",
       "    )\n",
       "    (1): BasicBlock(\n",
       "      (conv1): Conv2d(256, 256, kernel_size=(3, 3), stride=(1, 1), padding=(1, 1), bias=False)\n",
       "      (bn1): BatchNorm2d(256, eps=1e-05, momentum=0.1, affine=True, track_running_stats=True)\n",
       "      (relu): ReLU(inplace=True)\n",
       "      (conv2): Conv2d(256, 256, kernel_size=(3, 3), stride=(1, 1), padding=(1, 1), bias=False)\n",
       "      (bn2): BatchNorm2d(256, eps=1e-05, momentum=0.1, affine=True, track_running_stats=True)\n",
       "    )\n",
       "  )\n",
       "  (layer4): Sequential(\n",
       "    (0): BasicBlock(\n",
       "      (conv1): Conv2d(256, 512, kernel_size=(3, 3), stride=(2, 2), padding=(1, 1), bias=False)\n",
       "      (bn1): BatchNorm2d(512, eps=1e-05, momentum=0.1, affine=True, track_running_stats=True)\n",
       "      (relu): ReLU(inplace=True)\n",
       "      (conv2): Conv2d(512, 512, kernel_size=(3, 3), stride=(1, 1), padding=(1, 1), bias=False)\n",
       "      (bn2): BatchNorm2d(512, eps=1e-05, momentum=0.1, affine=True, track_running_stats=True)\n",
       "      (downsample): Sequential(\n",
       "        (0): Conv2d(256, 512, kernel_size=(1, 1), stride=(2, 2), bias=False)\n",
       "        (1): BatchNorm2d(512, eps=1e-05, momentum=0.1, affine=True, track_running_stats=True)\n",
       "      )\n",
       "    )\n",
       "    (1): BasicBlock(\n",
       "      (conv1): Conv2d(512, 512, kernel_size=(3, 3), stride=(1, 1), padding=(1, 1), bias=False)\n",
       "      (bn1): BatchNorm2d(512, eps=1e-05, momentum=0.1, affine=True, track_running_stats=True)\n",
       "      (relu): ReLU(inplace=True)\n",
       "      (conv2): Conv2d(512, 512, kernel_size=(3, 3), stride=(1, 1), padding=(1, 1), bias=False)\n",
       "      (bn2): BatchNorm2d(512, eps=1e-05, momentum=0.1, affine=True, track_running_stats=True)\n",
       "    )\n",
       "  )\n",
       "  (avgpool): AdaptiveAvgPool2d(output_size=(1, 1))\n",
       "  (fc): Linear(in_features=512, out_features=1, bias=True)\n",
       ")"
      ]
     },
     "execution_count": 73,
     "metadata": {},
     "output_type": "execute_result"
    }
   ],
   "source": [
    "# Training Optimization\n",
    "\n",
    "# Regression model\n",
    "model3 = models.resnet18(weights=models.ResNet18_Weights.DEFAULT)\n",
    "\n",
    "# Change the last layer for regression (single output neuron)\n",
    "model3.fc = nn.Linear(model3.fc.in_features, 1)\n",
    "\n",
    "model3.to(device)"
   ]
  },
  {
   "cell_type": "code",
   "execution_count": 74,
   "metadata": {},
   "outputs": [],
   "source": [
    "from torch.optim.lr_scheduler import ReduceLROnPlateau\n",
    "import copy\n",
    "\n",
    "def train_regressor(model, train_dataloader, val_dataloader, loss_fn, optimizer, device, \n",
    "                   num_epochs, lr_scheduler=None, early_stopping_patience=5):\n",
    "    \n",
    "    model = model.to(device)\n",
    "    best_val_mae = float('inf')\n",
    "    epochs_no_improve = 0\n",
    "    best_model_weights = None\n",
    "    \n",
    "    train_history = {'loss': [], 'mae': []}\n",
    "    val_history = {'loss': [], 'mae': []}\n",
    "\n",
    "    for epoch in range(num_epochs):\n",
    "        # Training\n",
    "        model.train()\n",
    "        epoch_train_loss = 0.0\n",
    "        epoch_train_mae = 0.0\n",
    "        \n",
    "        for inputs, labels in tqdm(train_dataloader, desc=f\"Epoch {epoch+1}/{num_epochs} [Training]\"):\n",
    "            inputs = inputs.to(device)\n",
    "            labels = labels.to(device).float()\n",
    "            \n",
    "            optimizer.zero_grad()\n",
    "            outputs = model(inputs)\n",
    "            loss = loss_fn(outputs.squeeze(), labels)\n",
    "            loss.backward()\n",
    "            \n",
    "            optimizer.step()\n",
    "            \n",
    "            epoch_train_loss += loss.item()\n",
    "            epoch_train_mae += torch.nn.functional.l1_loss(outputs.squeeze(), labels).item()\n",
    "        \n",
    "        # Val\n",
    "        val_loss, val_mae = evaluate_regressor(model, val_dataloader, loss_fn, device)\n",
    "        \n",
    "        # LR Scheduling\n",
    "        if lr_scheduler:\n",
    "            if isinstance(lr_scheduler, ReduceLROnPlateau):\n",
    "                lr_scheduler.step(val_loss)\n",
    "            else:\n",
    "                lr_scheduler.step()\n",
    "        \n",
    "        # Early Stopping\n",
    "        if val_mae < best_val_mae:\n",
    "            best_val_mae = val_mae\n",
    "            epochs_no_improve = 0\n",
    "            best_model_weights = copy.deepcopy(model.state_dict())\n",
    "        else:\n",
    "            epochs_no_improve += 1\n",
    "            if epochs_no_improve >= early_stopping_patience:\n",
    "                print(f'\\nEarly stopping at epoch {epoch+1}')\n",
    "                model.load_state_dict(best_model_weights)\n",
    "                break\n",
    "        \n",
    "        # History \n",
    "        train_history['loss'].append(epoch_train_loss / len(train_dataloader))\n",
    "        train_history['mae'].append(epoch_train_mae / len(train_dataloader))\n",
    "        val_history['loss'].append(val_loss)\n",
    "        val_history['mae'].append(val_mae)\n",
    "        \n",
    "        print(f'\\nTrain Loss: {train_history[\"loss\"][-1]:.4f} | Train MAE: {train_history[\"mae\"][-1]:.4f}')\n",
    "        print(f'Val Loss: {val_loss:.4f} | Val MAE: {val_mae:.4f}')\n",
    "        print(f'Best Val MAE: {best_val_mae:.4f} | LR: {optimizer.param_groups[0][\"lr\"]:.2e}')\n",
    "    \n",
    "    return train_history, val_history"
   ]
  },
  {
   "cell_type": "code",
   "execution_count": 81,
   "metadata": {},
   "outputs": [],
   "source": [
    "# Loss Function\n",
    "loss_fn_r = nn.MSELoss()\n",
    "\n",
    "# Optimizers\n",
    "optimizer_phase1 = optim.Adam(model3.fc.parameters(), lr=0.001)\n",
    "optimizer_phase2 = optim.Adam(model3.parameters(), lr=0.0001)\n",
    "\n",
    "# Schedulers\n",
    "scheduler_phase1 = ReduceLROnPlateau(optimizer_phase1, 'min', patience=2)\n",
    "scheduler_phase2 = ReduceLROnPlateau(optimizer_phase2, 'min', patience=3, factor=0.5)"
   ]
  },
  {
   "cell_type": "code",
   "execution_count": 83,
   "metadata": {},
   "outputs": [
    {
     "name": "stderr",
     "output_type": "stream",
     "text": [
      "Epoch 1/10 [Training]: 100%|████████████████████| 90/90 [05:33<00:00,  3.71s/it]\n"
     ]
    },
    {
     "name": "stdout",
     "output_type": "stream",
     "text": [
      "\n",
      "Train Loss: 140.0362 | Train MAE: 9.5117\n",
      "Val Loss: 90.0293 | Val MAE: 8.2351\n",
      "Best Val MAE: 8.2351 | LR: 1.00e-03\n"
     ]
    },
    {
     "name": "stderr",
     "output_type": "stream",
     "text": [
      "Epoch 2/10 [Training]: 100%|████████████████████| 90/90 [05:33<00:00,  3.70s/it]\n"
     ]
    },
    {
     "name": "stdout",
     "output_type": "stream",
     "text": [
      "\n",
      "Train Loss: 54.8684 | Train MAE: 6.4370\n",
      "Val Loss: 80.8394 | Val MAE: 7.8333\n",
      "Best Val MAE: 7.8333 | LR: 1.00e-03\n"
     ]
    },
    {
     "name": "stderr",
     "output_type": "stream",
     "text": [
      "Epoch 3/10 [Training]: 100%|████████████████████| 90/90 [05:29<00:00,  3.66s/it]\n"
     ]
    },
    {
     "name": "stdout",
     "output_type": "stream",
     "text": [
      "\n",
      "Train Loss: 51.8027 | Train MAE: 6.2221\n",
      "Val Loss: 73.4802 | Val MAE: 7.4649\n",
      "Best Val MAE: 7.4649 | LR: 1.00e-03\n"
     ]
    },
    {
     "name": "stderr",
     "output_type": "stream",
     "text": [
      "Epoch 4/10 [Training]: 100%|████████████████████| 90/90 [05:31<00:00,  3.69s/it]\n"
     ]
    },
    {
     "name": "stdout",
     "output_type": "stream",
     "text": [
      "\n",
      "Train Loss: 46.5754 | Train MAE: 5.8993\n",
      "Val Loss: 66.8087 | Val MAE: 7.1133\n",
      "Best Val MAE: 7.1133 | LR: 1.00e-03\n"
     ]
    },
    {
     "name": "stderr",
     "output_type": "stream",
     "text": [
      "Epoch 5/10 [Training]: 100%|████████████████████| 90/90 [05:32<00:00,  3.70s/it]\n"
     ]
    },
    {
     "name": "stdout",
     "output_type": "stream",
     "text": [
      "\n",
      "Train Loss: 42.3453 | Train MAE: 5.5958\n",
      "Val Loss: 64.6875 | Val MAE: 6.9545\n",
      "Best Val MAE: 6.9545 | LR: 1.00e-03\n"
     ]
    },
    {
     "name": "stderr",
     "output_type": "stream",
     "text": [
      "Epoch 6/10 [Training]: 100%|████████████████████| 90/90 [06:10<00:00,  4.11s/it]\n"
     ]
    },
    {
     "name": "stdout",
     "output_type": "stream",
     "text": [
      "\n",
      "Train Loss: 38.2547 | Train MAE: 5.3052\n",
      "Val Loss: 55.5278 | Val MAE: 6.4696\n",
      "Best Val MAE: 6.4696 | LR: 1.00e-03\n"
     ]
    },
    {
     "name": "stderr",
     "output_type": "stream",
     "text": [
      "Epoch 7/10 [Training]: 100%|████████████████████| 90/90 [06:28<00:00,  4.32s/it]\n"
     ]
    },
    {
     "name": "stdout",
     "output_type": "stream",
     "text": [
      "\n",
      "Train Loss: 34.3460 | Train MAE: 4.9881\n",
      "Val Loss: 49.7963 | Val MAE: 6.1263\n",
      "Best Val MAE: 6.1263 | LR: 1.00e-03\n"
     ]
    },
    {
     "name": "stderr",
     "output_type": "stream",
     "text": [
      "Epoch 8/10 [Training]: 100%|████████████████████| 90/90 [05:46<00:00,  3.85s/it]\n"
     ]
    },
    {
     "name": "stdout",
     "output_type": "stream",
     "text": [
      "\n",
      "Train Loss: 32.1662 | Train MAE: 4.8244\n",
      "Val Loss: 44.4577 | Val MAE: 5.7802\n",
      "Best Val MAE: 5.7802 | LR: 1.00e-03\n"
     ]
    },
    {
     "name": "stderr",
     "output_type": "stream",
     "text": [
      "Epoch 9/10 [Training]: 100%|████████████████████| 90/90 [05:55<00:00,  3.95s/it]\n"
     ]
    },
    {
     "name": "stdout",
     "output_type": "stream",
     "text": [
      "\n",
      "Train Loss: 30.1602 | Train MAE: 4.6367\n",
      "Val Loss: 43.2520 | Val MAE: 5.6464\n",
      "Best Val MAE: 5.6464 | LR: 1.00e-03\n"
     ]
    },
    {
     "name": "stderr",
     "output_type": "stream",
     "text": [
      "Epoch 10/10 [Training]: 100%|███████████████████| 90/90 [05:53<00:00,  3.93s/it]\n"
     ]
    },
    {
     "name": "stdout",
     "output_type": "stream",
     "text": [
      "\n",
      "Train Loss: 26.8310 | Train MAE: 4.3510\n",
      "Val Loss: 40.4837 | Val MAE: 5.4458\n",
      "Best Val MAE: 5.4458 | LR: 1.00e-03\n"
     ]
    }
   ],
   "source": [
    "# Phase 1: training with frozen params\n",
    "for name, param in model3.named_parameters():\n",
    "    if not name.startswith('fc'):\n",
    "        param.requires_grad = False\n",
    "\n",
    "train_history_r_phase1, val_history_r_phase1 = train_regressor(\n",
    "    model3, train_dataloader, valid_dataloader, loss_fn_r, optimizer_phase1,\n",
    "    device, num_epochs=10, lr_scheduler=scheduler_phase1, early_stopping_patience=3\n",
    ")"
   ]
  },
  {
   "cell_type": "code",
   "execution_count": 85,
   "metadata": {},
   "outputs": [
    {
     "name": "stderr",
     "output_type": "stream",
     "text": [
      "Epoch 1/40 [Training]: 100%|████████████████████| 90/90 [08:30<00:00,  5.67s/it]\n"
     ]
    },
    {
     "name": "stdout",
     "output_type": "stream",
     "text": [
      "\n",
      "Train Loss: 10.6206 | Train MAE: 2.5371\n",
      "Val Loss: 8.1473 | Val MAE: 2.4091\n",
      "Best Val MAE: 2.4091 | LR: 1.00e-04\n"
     ]
    },
    {
     "name": "stderr",
     "output_type": "stream",
     "text": [
      "Epoch 2/40 [Training]: 100%|████████████████████| 90/90 [08:20<00:00,  5.56s/it]\n"
     ]
    },
    {
     "name": "stdout",
     "output_type": "stream",
     "text": [
      "\n",
      "Train Loss: 6.3385 | Train MAE: 2.0018\n",
      "Val Loss: 5.9162 | Val MAE: 1.9829\n",
      "Best Val MAE: 1.9829 | LR: 1.00e-04\n"
     ]
    },
    {
     "name": "stderr",
     "output_type": "stream",
     "text": [
      "Epoch 3/40 [Training]: 100%|████████████████████| 90/90 [08:19<00:00,  5.55s/it]\n"
     ]
    },
    {
     "name": "stdout",
     "output_type": "stream",
     "text": [
      "\n",
      "Train Loss: 4.0011 | Train MAE: 1.6008\n",
      "Val Loss: 3.3868 | Val MAE: 1.5056\n",
      "Best Val MAE: 1.5056 | LR: 1.00e-04\n"
     ]
    },
    {
     "name": "stderr",
     "output_type": "stream",
     "text": [
      "Epoch 4/40 [Training]: 100%|████████████████████| 90/90 [08:20<00:00,  5.56s/it]\n"
     ]
    },
    {
     "name": "stdout",
     "output_type": "stream",
     "text": [
      "\n",
      "Train Loss: 3.9765 | Train MAE: 1.5940\n",
      "Val Loss: 3.6774 | Val MAE: 1.5498\n",
      "Best Val MAE: 1.5056 | LR: 1.00e-04\n"
     ]
    },
    {
     "name": "stderr",
     "output_type": "stream",
     "text": [
      "Epoch 5/40 [Training]: 100%|████████████████████| 90/90 [08:23<00:00,  5.59s/it]\n"
     ]
    },
    {
     "name": "stdout",
     "output_type": "stream",
     "text": [
      "\n",
      "Train Loss: 3.7670 | Train MAE: 1.5329\n",
      "Val Loss: 3.3083 | Val MAE: 1.4844\n",
      "Best Val MAE: 1.4844 | LR: 1.00e-04\n"
     ]
    },
    {
     "name": "stderr",
     "output_type": "stream",
     "text": [
      "Epoch 6/40 [Training]: 100%|████████████████████| 90/90 [08:23<00:00,  5.60s/it]\n"
     ]
    },
    {
     "name": "stdout",
     "output_type": "stream",
     "text": [
      "\n",
      "Train Loss: 3.8598 | Train MAE: 1.5752\n",
      "Val Loss: 3.5745 | Val MAE: 1.5095\n",
      "Best Val MAE: 1.4844 | LR: 1.00e-04\n"
     ]
    },
    {
     "name": "stderr",
     "output_type": "stream",
     "text": [
      "Epoch 7/40 [Training]: 100%|████████████████████| 90/90 [09:26<00:00,  6.30s/it]\n"
     ]
    },
    {
     "name": "stdout",
     "output_type": "stream",
     "text": [
      "\n",
      "Train Loss: 2.7312 | Train MAE: 1.2980\n",
      "Val Loss: 3.3883 | Val MAE: 1.4725\n",
      "Best Val MAE: 1.4725 | LR: 1.00e-04\n"
     ]
    },
    {
     "name": "stderr",
     "output_type": "stream",
     "text": [
      "Epoch 8/40 [Training]: 100%|████████████████████| 90/90 [09:30<00:00,  6.34s/it]\n"
     ]
    },
    {
     "name": "stdout",
     "output_type": "stream",
     "text": [
      "\n",
      "Train Loss: 2.5441 | Train MAE: 1.2516\n",
      "Val Loss: 4.5114 | Val MAE: 1.7398\n",
      "Best Val MAE: 1.4725 | LR: 1.00e-04\n"
     ]
    },
    {
     "name": "stderr",
     "output_type": "stream",
     "text": [
      "Epoch 9/40 [Training]: 100%|████████████████████| 90/90 [09:42<00:00,  6.47s/it]\n"
     ]
    },
    {
     "name": "stdout",
     "output_type": "stream",
     "text": [
      "\n",
      "Train Loss: 2.0950 | Train MAE: 1.1553\n",
      "Val Loss: 4.4974 | Val MAE: 1.8461\n",
      "Best Val MAE: 1.4725 | LR: 5.00e-05\n"
     ]
    },
    {
     "name": "stderr",
     "output_type": "stream",
     "text": [
      "Epoch 10/40 [Training]: 100%|███████████████████| 90/90 [09:56<00:00,  6.62s/it]\n"
     ]
    },
    {
     "name": "stdout",
     "output_type": "stream",
     "text": [
      "\n",
      "Train Loss: 2.0746 | Train MAE: 1.1215\n",
      "Val Loss: 2.0261 | Val MAE: 1.1560\n",
      "Best Val MAE: 1.1560 | LR: 5.00e-05\n"
     ]
    },
    {
     "name": "stderr",
     "output_type": "stream",
     "text": [
      "Epoch 11/40 [Training]: 100%|███████████████████| 90/90 [09:59<00:00,  6.66s/it]\n"
     ]
    },
    {
     "name": "stdout",
     "output_type": "stream",
     "text": [
      "\n",
      "Train Loss: 1.8304 | Train MAE: 1.0497\n",
      "Val Loss: 3.1378 | Val MAE: 1.4762\n",
      "Best Val MAE: 1.1560 | LR: 5.00e-05\n"
     ]
    },
    {
     "name": "stderr",
     "output_type": "stream",
     "text": [
      "Epoch 12/40 [Training]: 100%|███████████████████| 90/90 [10:04<00:00,  6.72s/it]\n"
     ]
    },
    {
     "name": "stdout",
     "output_type": "stream",
     "text": [
      "\n",
      "Train Loss: 1.3525 | Train MAE: 0.8986\n",
      "Val Loss: 2.4778 | Val MAE: 1.2933\n",
      "Best Val MAE: 1.1560 | LR: 5.00e-05\n"
     ]
    },
    {
     "name": "stderr",
     "output_type": "stream",
     "text": [
      "Epoch 13/40 [Training]: 100%|███████████████████| 90/90 [10:01<00:00,  6.68s/it]\n"
     ]
    },
    {
     "name": "stdout",
     "output_type": "stream",
     "text": [
      "\n",
      "Train Loss: 1.7045 | Train MAE: 1.0001\n",
      "Val Loss: 3.0453 | Val MAE: 1.4750\n",
      "Best Val MAE: 1.1560 | LR: 5.00e-05\n"
     ]
    },
    {
     "name": "stderr",
     "output_type": "stream",
     "text": [
      "Epoch 14/40 [Training]: 100%|███████████████████| 90/90 [10:05<00:00,  6.73s/it]\n"
     ]
    },
    {
     "name": "stdout",
     "output_type": "stream",
     "text": [
      "\n",
      "Train Loss: 0.9173 | Train MAE: 0.7712\n",
      "Val Loss: 2.3064 | Val MAE: 1.2214\n",
      "Best Val MAE: 1.1560 | LR: 2.50e-05\n"
     ]
    },
    {
     "name": "stderr",
     "output_type": "stream",
     "text": [
      "Epoch 15/40 [Training]: 100%|███████████████████| 90/90 [10:06<00:00,  6.74s/it]\n"
     ]
    },
    {
     "name": "stdout",
     "output_type": "stream",
     "text": [
      "\n",
      "Train Loss: 1.3041 | Train MAE: 0.8032\n",
      "Val Loss: 2.0356 | Val MAE: 1.1196\n",
      "Best Val MAE: 1.1196 | LR: 2.50e-05\n"
     ]
    },
    {
     "name": "stderr",
     "output_type": "stream",
     "text": [
      "Epoch 16/40 [Training]: 100%|███████████████████| 90/90 [10:06<00:00,  6.73s/it]\n"
     ]
    },
    {
     "name": "stdout",
     "output_type": "stream",
     "text": [
      "\n",
      "Train Loss: 0.9387 | Train MAE: 0.7536\n",
      "Val Loss: 3.1551 | Val MAE: 1.4911\n",
      "Best Val MAE: 1.1196 | LR: 2.50e-05\n"
     ]
    },
    {
     "name": "stderr",
     "output_type": "stream",
     "text": [
      "Epoch 17/40 [Training]: 100%|███████████████████| 90/90 [10:07<00:00,  6.75s/it]\n"
     ]
    },
    {
     "name": "stdout",
     "output_type": "stream",
     "text": [
      "\n",
      "Train Loss: 1.0020 | Train MAE: 0.7998\n",
      "Val Loss: 2.1538 | Val MAE: 1.2104\n",
      "Best Val MAE: 1.1196 | LR: 2.50e-05\n"
     ]
    },
    {
     "name": "stderr",
     "output_type": "stream",
     "text": [
      "Epoch 18/40 [Training]: 100%|███████████████████| 90/90 [10:07<00:00,  6.75s/it]\n"
     ]
    },
    {
     "name": "stdout",
     "output_type": "stream",
     "text": [
      "\n",
      "Train Loss: 0.7525 | Train MAE: 0.6852\n",
      "Val Loss: 2.4473 | Val MAE: 1.2856\n",
      "Best Val MAE: 1.1196 | LR: 1.25e-05\n"
     ]
    },
    {
     "name": "stderr",
     "output_type": "stream",
     "text": [
      "Epoch 19/40 [Training]: 100%|███████████████████| 90/90 [10:08<00:00,  6.76s/it]\n"
     ]
    },
    {
     "name": "stdout",
     "output_type": "stream",
     "text": [
      "\n",
      "Train Loss: 0.5880 | Train MAE: 0.6113\n",
      "Val Loss: 2.1851 | Val MAE: 1.2027\n",
      "Best Val MAE: 1.1196 | LR: 1.25e-05\n"
     ]
    },
    {
     "name": "stderr",
     "output_type": "stream",
     "text": [
      "Epoch 20/40 [Training]: 100%|███████████████████| 90/90 [10:12<00:00,  6.81s/it]\n"
     ]
    },
    {
     "name": "stdout",
     "output_type": "stream",
     "text": [
      "\n",
      "Early stopping at epoch 20\n"
     ]
    }
   ],
   "source": [
    "# 2nd Phase: training entire model (unfreeze)\n",
    "for param in model3.parameters():\n",
    "    param.requires_grad = True\n",
    "\n",
    "train_history_r_phase2, val_history_r_phase2 = train_regressor(\n",
    "    model3, train_dataloader, valid_dataloader, loss_fn_r, optimizer_phase2,\n",
    "    device, num_epochs=40, lr_scheduler=scheduler_phase2, early_stopping_patience=5\n",
    ")"
   ]
  },
  {
   "cell_type": "code",
   "execution_count": 91,
   "metadata": {},
   "outputs": [],
   "source": [
    "# Merge training and val loss, mae from both phases\n",
    "train_history_r = {\n",
    "    'loss': train_history_r_phase1['loss'] + train_history_r_phase2['loss'],\n",
    "    'mae': train_history_r_phase1['mae'] + train_history_r_phase2['mae']\n",
    "}\n",
    "val_history_r ={ \n",
    "    'loss': val_history_r_phase1['loss'] + val_history_r_phase2['loss'],\n",
    "    'mae': val_history_r_phase1['mae'] + val_history_r_phase2['mae']\n",
    "}"
   ]
  },
  {
   "cell_type": "code",
   "execution_count": 119,
   "metadata": {},
   "outputs": [],
   "source": [
    "def plotTrainingHistoryReg(train_history, val_history):\n",
    "    plt.figure(figsize=(10, 8))\n",
    "    \n",
    "    # MSE Loss plot\n",
    "    plt.subplot(2, 1, 1)\n",
    "    plt.plot(train_history['loss'], label='Train', linewidth=2)\n",
    "    plt.plot(val_history['loss'], label='Validation', linewidth=2)\n",
    "    plt.title('MSE Loss', fontsize=14, pad=20)\n",
    "    plt.ylabel('Loss', fontsize=12)\n",
    "    plt.grid(True, linestyle='--', alpha=0.7)\n",
    "    plt.legend(fontsize=12)\n",
    "    ax = plt.gca()\n",
    "    ax.spines['top'].set_visible(False)\n",
    "    ax.spines['right'].set_visible(False)\n",
    "    \n",
    "    # MAE plot\n",
    "    plt.subplot(2, 1, 2)\n",
    "    plt.plot(train_history['mae'], label='Train', linewidth=2)\n",
    "    plt.plot(val_history['mae'], label='Validation', linewidth=2)\n",
    "    plt.title('MAE', fontsize=14, pad=20)\n",
    "    plt.ylabel('MAE', fontsize=12)\n",
    "    plt.xlabel('Epoch', fontsize=12)\n",
    "    plt.grid(True, linestyle='--', alpha=0.7)\n",
    "    plt.legend(fontsize=12)\n",
    "    ax = plt.gca()\n",
    "    ax.spines['top'].set_visible(False)\n",
    "    ax.spines['right'].set_visible(False)\n",
    "    \n",
    "    plt.tight_layout()\n",
    "    plt.show()"
   ]
  },
  {
   "cell_type": "code",
   "execution_count": 120,
   "metadata": {},
   "outputs": [
    {
     "data": {
      "image/png": "[encoded data removed]",
      "text/plain": [
       "<Figure size 1000x800 with 2 Axes>"
      ]
     },
     "metadata": {},
     "output_type": "display_data"
    }
   ],
   "source": [
    "# Plot training and validation process\n",
    "plotTrainingHistoryReg(train_history_r, val_history_r)"
   ]
  },
  {
   "cell_type": "code",
   "execution_count": 97,
   "metadata": {},
   "outputs": [],
   "source": [
    "# Test Evaluation\n",
    "def test_regressor(model, test_dataloader, device):\n",
    "    model.eval()\n",
    "    predictions = []\n",
    "    true_values = []\n",
    "    \n",
    "    with torch.no_grad():\n",
    "        for inputs, labels in test_dataloader:\n",
    "            inputs = inputs.to(device)\n",
    "            labels = labels.to(device).float()\n",
    "            \n",
    "            outputs = model(inputs)\n",
    "            \n",
    "            predictions.extend(outputs.cpu().numpy().flatten())\n",
    "            true_values.extend(labels.cpu().numpy().flatten())\n",
    "    \n",
    "    return np.array(predictions), np.array(true_values)\n",
    "\n",
    "predictions, true_values = test_regressor(model3, test_dataloader, device)"
   ]
  },
  {
   "cell_type": "code",
   "execution_count": 124,
   "metadata": {},
   "outputs": [
    {
     "name": "stdout",
     "output_type": "stream",
     "text": [
      "\n",
      "**Test Metrics**\n",
      "\n",
      "MAE: 1.0817\n",
      "MSE: 2.0229\n",
      "RMSE: 1.4223\n",
      "R²: 0.9706\n"
     ]
    }
   ],
   "source": [
    "from sklearn.metrics import mean_absolute_error, mean_squared_error, r2_score\n",
    "\n",
    "rounded_predictions = np.round(predictions) # rounded predcitons because number of pieces -> integers\n",
    "\n",
    "mae = mean_absolute_error(true_values, rounded_predictions)\n",
    "mse = mean_squared_error(true_values, rounded_predictions)\n",
    "rmse = np.sqrt(mse)\n",
    "r2 = r2_score(true_values, rounded_predictions)\n",
    "\n",
    "print(f\"\\n**Test Metrics**\\n\")\n",
    "print(f\"MAE: {mae:.4f}\")\n",
    "print(f\"MSE: {mse:.4f}\")\n",
    "print(f\"RMSE: {rmse:.4f}\")\n",
    "print(f\"R²: {r2:.4f}\")"
   ]
  },
  {
   "cell_type": "code",
   "execution_count": 127,
   "metadata": {},
   "outputs": [
    {
     "data": {
      "image/png": "[encoded data removed]",
      "text/plain": [
       "<Figure size 1000x600 with 1 Axes>"
      ]
     },
     "metadata": {},
     "output_type": "display_data"
    },
    {
     "data": {
      "image/png": "[encoded data removed]",
      "text/plain": [
       "<Figure size 1000x600 with 1 Axes>"
      ]
     },
     "metadata": {},
     "output_type": "display_data"
    }
   ],
   "source": [
    "import matplotlib.pyplot as plt\n",
    "import numpy as np\n",
    "\n",
    "# Set style\n",
    "plt.style.use('seaborn-v0_8')\n",
    "\n",
    "# True vs Predicted plot\n",
    "plt.figure(figsize=(10, 6))\n",
    "plt.scatter(true_values, rounded_predictions, \n",
    "            alpha=0.6,\n",
    "            edgecolor='w',\n",
    "            linewidth=0.5,\n",
    "            s=80)\n",
    "plt.plot([np.min(true_values), np.max(true_values)], \n",
    "         [np.min(true_values), np.max(true_values)], \n",
    "         'r--', \n",
    "         linewidth=2,\n",
    "         label='Perfect prediction')\n",
    "plt.xlabel('True Values', fontsize=12)\n",
    "plt.ylabel('Predictions', fontsize=12)\n",
    "plt.title('True vs Predicted Values', fontsize=14, pad=20)\n",
    "plt.grid(True, linestyle='--', alpha=0.3)\n",
    "plt.legend(fontsize=11)\n",
    "ax = plt.gca()\n",
    "ax.spines['top'].set_visible(False)\n",
    "ax.spines['right'].set_visible(False)\n",
    "plt.tight_layout()\n",
    "plt.show()\n",
    "\n",
    "# Errors Histogram\n",
    "errors = rounded_predictions - true_values\n",
    "plt.figure(figsize=(10, 6))\n",
    "plt.hist(errors, \n",
    "         bins=50, \n",
    "         edgecolor='white',\n",
    "         alpha=0.8)\n",
    "plt.xlabel('Prediction Error', fontsize=12)\n",
    "plt.ylabel('Count', fontsize=12)\n",
    "plt.title('Prediction Error Distribution', fontsize=14, pad=20)\n",
    "plt.grid(True, axis='y', linestyle='--', alpha=0.3)\n",
    "mean_err = np.mean(errors)\n",
    "std_err = np.std(errors)\n",
    "plt.axvline(mean_err, color='r', linestyle='--', linewidth=1.5)\n",
    "plt.text(mean_err + 0.1*std_err, plt.ylim()[1]*0.9, \n",
    "         f'Mean: {mean_err:.2f}\\nStd: {std_err:.2f}',\n",
    "         color='red')\n",
    "ax = plt.gca()\n",
    "ax.spines['top'].set_visible(False)\n",
    "ax.spines['right'].set_visible(False)\n",
    "\n",
    "plt.tight_layout()\n",
    "plt.show()"
   ]
  },
  {
   "cell_type": "code",
   "execution_count": 128,
   "metadata": {},
   "outputs": [],
   "source": [
    "# Save model\n",
    "torch.save(model3, 'model3.pth')"
   ]
  },
  {
   "cell_type": "markdown",
   "metadata": {},
   "source": [
    "## Classification - pipline board detector, squares separation and binary classification: occupied or not (then sum it)"
   ]
  },
  {
   "cell_type": "code",
   "execution_count": 3,
   "metadata": {},
   "outputs": [
    {
     "name": "stdout",
     "output_type": "stream",
     "text": [
      "Number of train images: 1442\n",
      "Number of valid images: 330\n",
      "Number of test images: 306\n"
     ]
    }
   ],
   "source": [
    "def chesspos2number(chesspos):\n",
    "    col = ord(chesspos[0]) - ord('a') \n",
    "    row = 8 - int(chesspos[1]) \n",
    "    return row, col\n",
    "\n",
    "class ChessDataset(Dataset):\n",
    "    def __init__(self, root_dir, partition, transform=None):\n",
    "        self.anns = json.load(open(os.path.join(root_dir, 'annotations.json')))\n",
    "        self.categories = [c['name'] for c in self.anns['categories']]\n",
    "        self.root = root_dir\n",
    "        self.ids = []\n",
    "        self.file_names = []\n",
    "        for x in self.anns['images']:\n",
    "            self.file_names.append(x['path'])\n",
    "            self.ids.append(x['id'])\n",
    "        self.file_names = np.asarray(self.file_names)\n",
    "        self.ids = np.asarray(self.ids)\n",
    "        \n",
    "        # Inicjalizacja szachownicy 8x8 z zerami (brak figur)\n",
    "        self.boards = torch.zeros((len(self.file_names), 8, 8), dtype=torch.float32)\n",
    "        \n",
    "        # Wypełnij miejsca, gdzie są figury (1 = figura istnieje)\n",
    "        for piece in self.anns['annotations']['pieces']:\n",
    "            idx = np.where(self.ids == piece['image_id'])[0][0]\n",
    "            row, col = chesspos2number(piece['chessboard_position'])\n",
    "            self.boards[idx][row][col] = 1  # Oznacz obecność figury\n",
    "\n",
    "        if partition == 'train':\n",
    "            self.split_ids = np.asarray(self.anns['splits']['chessred2k']['train']['image_ids']).astype(int)\n",
    "        elif partition == 'valid':\n",
    "            self.split_ids = np.asarray(self.anns['splits']['chessred2k']['val']['image_ids']).astype(int)\n",
    "        else:\n",
    "            self.split_ids = np.asarray(self.anns['splits']['chessred2k']['test']['image_ids']).astype(int)\n",
    "\n",
    "        intersect = np.isin(self.ids, self.split_ids)\n",
    "        self.split_ids = np.where(intersect)[0]\n",
    "        self.file_names = self.file_names[self.split_ids]\n",
    "        self.boards = self.boards[self.split_ids]\n",
    "        self.ids = self.ids[self.split_ids]\n",
    "\n",
    "        self.transform = transform\n",
    "        print(f\"Number of {partition} images: {len(self.file_names)}\")\n",
    "\n",
    "    def __len__(self):\n",
    "        return len(self.file_names)\n",
    "\n",
    "    def __getitem__(self, i):\n",
    "        image = cv2.imread(os.path.join(self.root, self.file_names[i]))\n",
    "        image = cv2.cvtColor(image, cv2.COLOR_BGR2RGB)\n",
    "\n",
    "        if self.transform:\n",
    "            image = self.transform(image)\n",
    "\n",
    "        board = self.boards[i]\n",
    "\n",
    "        return image, board\n",
    "        \n",
    "train_dataset = ChessDataset('', 'train', data_aug)\n",
    "valid_dataset = ChessDataset('', 'valid', data_in)\n",
    "test_dataset = ChessDataset('', 'test', data_in)"
   ]
  },
  {
   "cell_type": "code",
   "execution_count": 4,
   "metadata": {},
   "outputs": [
    {
     "name": "stdout",
     "output_type": "stream",
     "text": [
      "Using cpu device\n"
     ]
    }
   ],
   "source": [
    "# get cpu or gpu device for training\n",
    "device = \"cuda\" if torch.cuda.is_available() else \"cpu\"\n",
    "print(f\"Using {device} device\")\n",
    "\n",
    "# now we need to define a Dataloader, which allows us to automatically batch our inputs, do sampling and multiprocess data loading\n",
    "batch_size = 16\n",
    "\n",
    "train_dataloader = DataLoader(train_dataset, batch_size=batch_size, shuffle=True, drop_last=True)\n",
    "valid_dataloader = DataLoader(valid_dataset, batch_size=batch_size, shuffle=False, drop_last=False)\n",
    "test_dataloader = DataLoader(test_dataset, batch_size=batch_size, shuffle=False, drop_last=False)"
   ]
  },
  {
   "cell_type": "code",
   "execution_count": 5,
   "metadata": {},
   "outputs": [
    {
     "data": {
      "text/plain": [
       "(Image([[[ 1.4440,  1.4098,  1.3927,  ..., -0.0629, -0.0801, -0.0801],\n",
       "         [ 1.2728,  1.2728,  1.3070,  ..., -0.0629, -0.0629, -0.0801],\n",
       "         [ 1.2728,  1.2557,  1.2899,  ..., -0.0801, -0.0801, -0.0801],\n",
       "         ...,\n",
       "         [ 1.8379,  1.7352,  1.7523,  ...,  1.2385,  1.1529,  1.0159],\n",
       "         [ 1.9235,  1.7694,  1.7523,  ...,  1.2728,  1.2385,  1.1187],\n",
       "         [ 1.8893,  1.7180,  1.6838,  ...,  1.1015,  1.2385,  1.2043]],\n",
       " \n",
       "        [[ 0.8004,  0.7654,  0.7479,  ...,  0.1001,  0.0826,  0.0826],\n",
       "         [ 0.6429,  0.6429,  0.6779,  ...,  0.1001,  0.1001,  0.0826],\n",
       "         [ 0.6429,  0.6254,  0.6604,  ...,  0.0826,  0.0826,  0.0826],\n",
       "         ...,\n",
       "         [ 1.5882,  1.4657,  1.5007,  ...,  0.6604,  0.5728,  0.4328],\n",
       "         [ 1.6758,  1.5007,  1.4832,  ...,  0.6954,  0.6604,  0.5378],\n",
       "         [ 1.6408,  1.4657,  1.3957,  ...,  0.5203,  0.6604,  0.6254]],\n",
       " \n",
       "        [[-0.1835, -0.2184, -0.2184,  ...,  0.2696,  0.2522,  0.2522],\n",
       "         [-0.3230, -0.3055, -0.2881,  ...,  0.2696,  0.2696,  0.2522],\n",
       "         [-0.3230, -0.3404, -0.3055,  ...,  0.2522,  0.2522,  0.2522],\n",
       "         ...,\n",
       "         [ 1.2631,  1.1237,  1.1237,  ..., -0.1661, -0.2532, -0.3927],\n",
       "         [ 1.3502,  1.1411,  1.1062,  ..., -0.1312, -0.1661, -0.2881],\n",
       "         [ 1.2980,  1.0888,  1.0017,  ..., -0.3055, -0.1661, -0.2010]]], ),\n",
       " tensor([[1., 1., 1., 1., 1., 1., 1., 1.],\n",
       "         [1., 1., 1., 1., 1., 1., 1., 1.],\n",
       "         [0., 0., 0., 0., 0., 0., 0., 0.],\n",
       "         [0., 0., 0., 0., 0., 0., 0., 0.],\n",
       "         [0., 0., 1., 0., 0., 0., 0., 0.],\n",
       "         [0., 0., 0., 0., 0., 0., 0., 0.],\n",
       "         [1., 1., 0., 1., 1., 1., 1., 1.],\n",
       "         [1., 1., 1., 1., 1., 1., 1., 1.]]))"
      ]
     },
     "execution_count": 5,
     "metadata": {},
     "output_type": "execute_result"
    }
   ],
   "source": [
    "train_dataset[1]"
   ]
  },
  {
   "cell_type": "code",
   "execution_count": null,
   "metadata": {},
   "outputs": [],
   "source": []
  }
 ],
 "metadata": {
  "accelerator": "GPU",
  "colab": {
   "gpuType": "T4",
   "provenance": []
  },
  "kernelspec": {
   "display_name": "Python 3 (ipykernel)",
   "language": "python",
   "name": "python3"
  },
  "language_info": {
   "codemirror_mode": {
    "name": "ipython",
    "version": 3
   },
   "file_extension": ".py",
   "mimetype": "text/x-python",
   "name": "python",
   "nbconvert_exporter": "python",
   "pygments_lexer": "ipython3",
   "version": "3.8.18"
  }
 },
 "nbformat": 4,
 "nbformat_minor": 4
}
