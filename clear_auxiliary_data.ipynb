{
 "cells": [
  {
   "cell_type": "code",
   "execution_count": 1,
   "id": "fd8b6364",
   "metadata": {},
   "outputs": [],
   "source": [
    "import cv2\n",
    "from scipy import ndimage\n",
    "import numpy as np\n",
    "import os\n",
    "import json\n",
    "\n",
    "from src.src import *\n",
    "\n",
    "# Path to directory with images\n",
    "dataDir = os.path.join(\".\",\"images\", '42')\n",
    "auxiliaryDir = os.path.join(\"images\", 'auxiliary_data')\n",
    "def remove_color(img, target_color_bgr, tolerance=20, replacement_color_bgr=(0, 0, 0)):\n",
    "    \"\"\"\n",
    "    Removes pixels of a specific color (within a tolerance) from an image\n",
    "    using OpenCV and replaces them with another color (defaulting to transparent).\n",
    "\n",
    "    Args:\n",
    "        image_path (str): The path to the input image file.\n",
    "        target_color_bgr (tuple): A BGR tuple (blue, green, red) representing the\n",
    "                                color to remove (OpenCV uses BGR order).\n",
    "        tolerance (int): The allowed difference (Euclidean distance in BGR space)\n",
    "                        between a pixel's color and the target color for it to\n",
    "                        be considered for removal. Higher values mean a wider\n",
    "                        range of colors will be removed.\n",
    "        replacement_color_bgr (tuple): A BGRA tuple (blue, green, red, alpha)\n",
    "                                    representing the color to replace the removed\n",
    "                                    pixels with. Defaults to transparent black.\n",
    "\n",
    "    Returns:\n",
    "        numpy.nparray or None: A new NumPy array representing the image with the\n",
    "                            specified color removed, or None if the input\n",
    "                            image cannot be opened.\n",
    "    \"\"\"\n",
    "    try:\n",
    "        if img is None:\n",
    "            print(f\"Error: Could not find the image at {img}\")\n",
    "            return None\n",
    "\n",
    "        ## If the image doesn't have an alpha channel, add one (fully opaque)\n",
    "        #if img.shape[-1] == 3:\n",
    "        #    alpha = np.ones((img.shape[0], img.shape[1], 1), dtype=np.uint8) * 255\n",
    "        #    img = cv2.cvtColor(img, cv2.COLOR_BGR2BGRA)\n",
    "        #    img[:, :, 3] = alpha\n",
    "\n",
    "        target_b, target_g, target_r = target_color_bgr\n",
    "        replace_b, replace_g, replace_r = replacement_color_bgr\n",
    "\n",
    "        height, width, channels = img.shape\n",
    "\n",
    "        for y in range(height):\n",
    "            for x in range(width):\n",
    "                current_b, current_g, current_r = img[y, x]\n",
    "\n",
    "                # Calculate the Euclidean distance in BGR space\n",
    "                distance = np.sqrt((int(current_b) - target_b)**2 +\n",
    "                                    (int(current_g) - target_g)**2 +\n",
    "                                    (int(current_r) - target_r)**2)\n",
    "\n",
    "                if distance <= tolerance:\n",
    "                    img[y, x] = [replace_b, replace_g, replace_r]\n",
    "\n",
    "        return img\n",
    "\n",
    "    except Exception as e:\n",
    "        print(f\"An error occurred: {e}\")\n",
    "        return None"
   ]
  },
  {
   "cell_type": "code",
   "execution_count": 31,
   "id": "4c1c97fb",
   "metadata": {},
   "outputs": [],
   "source": [
    "path =  os.path.join( auxiliaryDir , 'rook_black.png')"
   ]
  },
  {
   "cell_type": "code",
   "execution_count": 52,
   "id": "e5b33b40",
   "metadata": {},
   "outputs": [],
   "source": [
    "# Read image\n",
    "imgs, gray_imgs, img_names = read_images([path])\n",
    "\n",
    "# Show image\n",
    "show_images(imgs, img_names)\n",
    "show_images(gray_imgs, img_names)"
   ]
  },
  {
   "cell_type": "markdown",
   "id": "4432fdb0",
   "metadata": {},
   "source": [
    "## white piece"
   ]
  },
  {
   "cell_type": "code",
   "execution_count": 53,
   "id": "e22a598b",
   "metadata": {},
   "outputs": [],
   "source": [
    "replacement_transparent_bgra = (0, 0, 0) # Transparent black"
   ]
  },
  {
   "cell_type": "code",
   "execution_count": 54,
   "id": "aa2ec162",
   "metadata": {},
   "outputs": [],
   "source": [
    "target_brown_bgr = (78, 71, 71)  # Remember OpenCV uses BGR\n",
    "tolerance_level = 70  # Adjust this value as needed\n",
    "\n",
    "\n",
    "new_imagem = remove_color(imgs[0], target_brown_bgr, tolerance_level, replacement_transparent_bgra)\n",
    "\n",
    "cv2.imshow(\"New Image\", new_imagem)\n",
    "cv2.waitKey(0)\n",
    "cv2.destroyAllWindows()"
   ]
  },
  {
   "cell_type": "code",
   "execution_count": 55,
   "id": "c5a27414",
   "metadata": {},
   "outputs": [],
   "source": [
    "target_brown_bgr = (233, 236, 235)  # Remember OpenCV uses BGR\n",
    "tolerance_level = 60 # Adjust this value as needed\n",
    "\n",
    "new_new_imagem = remove_color(new_imagem, target_brown_bgr, tolerance_level, replacement_transparent_bgra)\n",
    "\n",
    "cv2.imshow(\"New Image\", new_new_imagem)\n",
    "cv2.waitKey(0)\n",
    "cv2.destroyAllWindows()"
   ]
  },
  {
   "cell_type": "code",
   "execution_count": 58,
   "id": "a265a0d9",
   "metadata": {},
   "outputs": [],
   "source": [
    "target_brown_bgr = (172, 164, 159)  # Remember OpenCV uses BGR\n",
    "tolerance_level = 60 # Adjust this value as needed\n",
    "\n",
    "new_new_imagem = remove_color(new_imagem, target_brown_bgr, tolerance_level, replacement_transparent_bgra)\n",
    "\n",
    "cv2.imshow(\"New Image\", new_new_imagem)\n",
    "cv2.waitKey(0)\n",
    "cv2.destroyAllWindows()"
   ]
  },
  {
   "cell_type": "code",
   "execution_count": 59,
   "id": "139262ef",
   "metadata": {},
   "outputs": [
    {
     "data": {
      "text/plain": [
       "True"
      ]
     },
     "execution_count": 59,
     "metadata": {},
     "output_type": "execute_result"
    }
   ],
   "source": [
    "name = img_names[0] + \"_transparent.png\"\n",
    "path = os.path.join(auxiliaryDir, name)\n",
    "cv2.imwrite(path, new_new_imagem)\n",
    "# Read image"
   ]
  },
  {
   "cell_type": "markdown",
   "id": "36cf304c",
   "metadata": {},
   "source": [
    "## black piece"
   ]
  },
  {
   "cell_type": "code",
   "execution_count": null,
   "id": "9a163cda",
   "metadata": {},
   "outputs": [],
   "source": [
    "target_brown_bgr = (78, 61, 51)  # Remember OpenCV uses BGR\n",
    "tolerance_level = 44  # Adjust this value as needed\n",
    "replacement_transparent_bgra = (255, 255, 255) # Transparent white\n",
    "\n",
    "\n",
    "new_imagem = remove_color(imgs[0], target_brown_bgr, tolerance_level, replacement_transparent_bgra)\n",
    "\n",
    "cv2.imshow(\"New Image\", new_imagem)\n",
    "cv2.waitKey(0)\n",
    "cv2.destroyAllWindows()"
   ]
  }
 ],
 "metadata": {
  "kernelspec": {
   "display_name": "OpenCV",
   "language": "python",
   "name": "python3"
  },
  "language_info": {
   "codemirror_mode": {
    "name": "ipython",
    "version": 3
   },
   "file_extension": ".py",
   "mimetype": "text/x-python",
   "name": "python",
   "nbconvert_exporter": "python",
   "pygments_lexer": "ipython3",
   "version": "3.12.9"
  }
 },
 "nbformat": 4,
 "nbformat_minor": 5
}
